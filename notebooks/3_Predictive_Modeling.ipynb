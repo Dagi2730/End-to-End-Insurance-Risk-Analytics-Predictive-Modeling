{
 "cells": [
  {
   "cell_type": "markdown",
   "metadata": {},
   "source": [
    "# AlphaCare Insurance Analytics - Predictive Modeling\n",
    "\n",
    "## 🤖 Machine Learning Pipeline\n",
    "\n",
    "This notebook implements a comprehensive predictive modeling pipeline for insurance premium and claims prediction. We leverage insights from EDA and hypothesis testing to build robust, interpretable models that can drive business decisions.\n",
    "\n",
    "### 🎯 Modeling Objectives\n",
    "1. **Premium Prediction**: Predict optimal insurance premiums based on customer and policy features\n",
    "2. **Claims Prediction**: Forecast expected claims amounts for risk assessment\n",
    "3. **Risk Scoring**: Develop comprehensive risk scores for underwriting\n",
    "4. **Model Interpretability**: Understand feature importance and model decisions\n",
    "\n",
    "### 🔧 Technical Approach\n",
    "- **Feature Engineering**: Advanced feature creation based on domain knowledge\n",
    "- **Model Selection**: Linear Regression, Random Forest, XGBoost\n",
    "- **Evaluation**: Multiple metrics, cross-validation, statistical significance\n",
    "- **Interpretability**: SHAP values, feature importance, partial dependence\n",
    "- **Production Ready**: Scalable pipeline with proper validation"
   ]
  },
  {
   "cell_type": "code",
   "execution_count": 6,
   "metadata": {},
   "outputs": [
    {
     "name": "stdout",
     "output_type": "stream",
     "text": [
      "🤖 Machine Learning libraries imported successfully!\n",
      "🎯 Ready for predictive modeling pipeline!\n"
     ]
    }
   ],
   "source": [
    "# Import required libraries\n",
    "import pandas as pd\n",
    "import numpy as np\n",
    "import matplotlib.pyplot as plt\n",
    "import seaborn as sns\n",
    "import plotly.express as px\n",
    "import json\n",
    "import plotly.graph_objects as go\n",
    "from plotly.subplots import make_subplots\n",
    "import warnings\n",
    "warnings.filterwarnings('ignore')\n",
    "\n",
    "# Machine Learning libraries\n",
    "from sklearn.model_selection import (\n",
    "    train_test_split, cross_val_score, GridSearchCV, \n",
    "    RandomizedSearchCV, StratifiedKFold, KFold\n",
    ")\n",
    "from sklearn.preprocessing import (\n",
    "    StandardScaler, RobustScaler, LabelEncoder, \n",
    "    OneHotEncoder, PolynomialFeatures\n",
    ")\n",
    "from sklearn.feature_selection import SelectKBest, f_regression, RFE\n",
    "from sklearn.linear_model import LinearRegression, Ridge, Lasso, ElasticNet\n",
    "from sklearn.ensemble import RandomForestRegressor, GradientBoostingRegressor\n",
    "from sklearn.metrics import (\n",
    "    mean_squared_error, mean_absolute_error, r2_score,\n",
    "    mean_absolute_percentage_error, explained_variance_score\n",
    ")\n",
    "from sklearn.pipeline import Pipeline\n",
    "from sklearn.compose import ColumnTransformer\n",
    "import xgboost as xgb\n",
    "\n",
    "# Model interpretation\n",
    "import shap\n",
    "from sklearn.inspection import permutation_importance, partial_dependence\n",
    "\n",
    "# Statistical libraries\n",
    "from scipy import stats\n",
    "from scipy.stats import pearsonr, spearmanr\n",
    "import statsmodels.api as sm\n",
    "\n",
    "# Custom modules\n",
    "import sys\n",
    "sys.path.append('../modules')\n",
    "from modeling_utils import InsuranceModelingPipeline\n",
    "from data_processing import InsuranceDataProcessor\n",
    "from visualization import InsuranceVisualizer\n",
    "\n",
    "# Configure plotting\n",
    "plt.style.use('seaborn-v0_8')\n",
    "sns.set_palette(\"husl\")\n",
    "plt.rcParams['figure.figsize'] = (12, 8)\n",
    "plt.rcParams['font.size'] = 11\n",
    "\n",
    "# Set random seeds for reproducibility\n",
    "np.random.seed(42)\n",
    "\n",
    "print(\"🤖 Machine Learning libraries imported successfully!\")\n",
    "print(\"🎯 Ready for predictive modeling pipeline!\")"
   ]
  },
  {
   "cell_type": "markdown",
   "metadata": {},
   "source": [
    "## 📂 Data Loading and Preparation"
   ]
  },
  {
   "cell_type": "code",
   "execution_count": 7,
   "metadata": {},
   "outputs": [
    {
     "name": "stdout",
     "output_type": "stream",
     "text": [
      "📥 Loaded raw dataset\n",
      "📊 Dataset shape: (10000, 10)\n",
      "📅 Date range: 2014-02-01 00:00:00.000000000 to 2014-02-01 00:00:00.000000000\n",
      "💰 Premium range: $16076.84 - $16076.84\n",
      "🏥 Claims range: $17211.42 - $17211.42\n",
      "📋 Loaded hypothesis testing insights for feature engineering\n"
     ]
    }
   ],
   "source": [
    "# Load raw dataset\n",
    "data = pd.read_csv('../data/MachineLearningRating_v3.csv')\n",
    "print(\"📥 Loaded raw dataset\")\n",
    "print(f\"📊 Dataset shape: {data.shape}\")\n",
    "\n",
    "# Optionally: Use only first row\n",
    "data = data.head(1)\n",
    "\n",
    "# Initialize modeling pipeline and visualizer\n",
    "modeling_pipeline = InsuranceModelingPipeline()\n",
    "visualizer = InsuranceVisualizer()\n",
    "\n",
    "# Basic dataset info (check if columns exist)\n",
    "if 'TransactionMonth' in data.columns:\n",
    "    print(f\"📅 Date range: {data['TransactionMonth'].min()} to {data['TransactionMonth'].max()}\")\n",
    "if 'TotalPremium' in data.columns:\n",
    "    print(f\"💰 Premium range: ${data['TotalPremium'].min():.2f} - ${data['TotalPremium'].max():.2f}\")\n",
    "if 'TotalClaims' in data.columns:\n",
    "    print(f\"🏥 Claims range: ${data['TotalClaims'].min():.2f} - ${data['TotalClaims'].max():.2f}\")\n",
    "\n",
    "# Load hypothesis testing results if available\n",
    "try:\n",
    "    with open('../results/hypothesis_testing_results.json', 'r') as f:\n",
    "        hypothesis_results = json.load(f)\n",
    "    print(\"📋 Loaded hypothesis testing insights for feature engineering\")\n",
    "except FileNotFoundError:\n",
    "    print(\"⚠️ Hypothesis testing results not found - proceeding with standard features\")\n",
    "    hypothesis_results = None\n"
   ]
  },
  {
   "cell_type": "markdown",
   "metadata": {},
   "source": [
    "## 🔧 Advanced Feature Engineering\n",
    "\n",
    "Based on EDA insights and hypothesis testing results, we'll create sophisticated features that capture business logic and statistical relationships."
   ]
  },
  {
   "cell_type": "code",
   "execution_count": 8,
   "metadata": {},
   "outputs": [
    {
     "name": "stdout",
     "output_type": "stream",
     "text": [
      "🔧 ADVANCED FEATURE ENGINEERING\n",
      "==================================================\n",
      "\n",
      "🎯 Creating risk-based features...\n",
      "🚗 Creating vehicle-related features...\n",
      "🌍 Creating geographic features...\n",
      "  📊 Provincial differences detected - creating province risk scores\n",
      "👥 Creating demographic features...\n",
      "  ⚧ Gender differences detected - creating gender risk indicators\n",
      "📅 Creating temporal features...\n",
      "🔗 Creating interaction features...\n",
      "📊 Creating statistical features...\n",
      "\n",
      "✅ Feature engineering complete!\n",
      "📊 Original features: 10\n",
      "🔧 Engineered features: 24\n",
      "➕ New features added: 14\n",
      "\n",
      "🆕 New features created: ['ClaimRate', 'ProfitMargin', 'RiskScore', 'ClaimToPremiumRatio', 'PremiumPerMonth', 'HighRiskVehicle', 'ProvinceRiskScore', 'GenderRisk', 'Month', 'Quarter']...\n"
     ]
    }
   ],
   "source": [
    "print(\"🔧 ADVANCED FEATURE ENGINEERING\")\n",
    "print(\"=\" * 50)\n",
    "\n",
    "# Create a copy for feature engineering\n",
    "features_df = data.copy()\n",
    "\n",
    "# 1. Risk-based features\n",
    "print(\"\\n🎯 Creating risk-based features...\")\n",
    "features_df['ClaimRate'] = (features_df['TotalClaims'] > 0).astype(int)\n",
    "features_df['ProfitMargin'] = (features_df['TotalPremium'] - features_df['TotalClaims']) / (features_df['TotalPremium'] + 1)\n",
    "features_df['RiskScore'] = features_df['TotalClaims'] / (features_df['TotalPremium'] + 1)\n",
    "features_df['ClaimToPremiumRatio'] = features_df['TotalClaims'] / (features_df['TotalPremium'] + 1)\n",
    "features_df['PremiumPerMonth'] = features_df['TotalPremium'] / 12  # Assuming annual premiums\n",
    "\n",
    "# 2. Vehicle-related features\n",
    "print(\"🚗 Creating vehicle-related features...\")\n",
    "if 'VehicleType' in features_df.columns:\n",
    "    # Vehicle age (if birth year available)\n",
    "    current_year = 2024\n",
    "    if 'RegistrationYear' in features_df.columns:\n",
    "        features_df['VehicleAge'] = current_year - features_df['RegistrationYear']\n",
    "        features_df['VehicleAge'] = features_df['VehicleAge'].clip(0, 50)  # Cap at reasonable values\n",
    "    \n",
    "    # Vehicle risk categories\n",
    "    high_risk_vehicles = ['Sports Car', 'Luxury', 'SUV']\n",
    "    if 'VehicleType' in features_df.columns:\n",
    "        features_df['HighRiskVehicle'] = features_df['VehicleType'].isin(high_risk_vehicles).astype(int)\n",
    "\n",
    "# 3. Geographic features (based on hypothesis testing)\n",
    "print(\"🌍 Creating geographic features...\")\n",
    "if hypothesis_results and hypothesis_results.get('hypothesis_results', {}).get('H1: Provincial Risk Differences', {}).get('significant', False):\n",
    "    print(\"  📊 Provincial differences detected - creating province risk scores\")\n",
    "    province_risk = features_df.groupby('Province')['RiskScore'].mean().to_dict()\n",
    "    features_df['ProvinceRiskScore'] = features_df['Province'].map(province_risk)\n",
    "\n",
    "if hypothesis_results and hypothesis_results.get('hypothesis_results', {}).get('H2: Zip Code Risk Differences', {}).get('significant', False):\n",
    "    print(\"  📮 Zip code differences detected - creating zip risk scores\")\n",
    "    zip_risk = features_df.groupby('PostalCode')['RiskScore'].mean().to_dict()\n",
    "    features_df['ZipRiskScore'] = features_df['PostalCode'].map(zip_risk)\n",
    "    \n",
    "    # Fill missing zip codes with overall mean\n",
    "    overall_risk = features_df['RiskScore'].mean()\n",
    "    features_df['ZipRiskScore'] = features_df['ZipRiskScore'].fillna(overall_risk)\n",
    "\n",
    "# 4. Demographic features\n",
    "print(\"👥 Creating demographic features...\")\n",
    "if hypothesis_results and hypothesis_results.get('hypothesis_results', {}).get('H4: Gender Risk Differences', {}).get('significant', False):\n",
    "    print(\"  ⚧ Gender differences detected - creating gender risk indicators\")\n",
    "    features_df['GenderRisk'] = features_df['Gender'].map({'Male': 1, 'Female': 0}).fillna(0)\n",
    "\n",
    "# 5. Temporal features\n",
    "print(\"📅 Creating temporal features...\")\n",
    "if 'TransactionMonth' in features_df.columns:\n",
    "    features_df['TransactionMonth'] = pd.to_datetime(features_df['TransactionMonth'])\n",
    "    features_df['Month'] = features_df['TransactionMonth'].dt.month\n",
    "    features_df['Quarter'] = features_df['TransactionMonth'].dt.quarter\n",
    "    features_df['Year'] = features_df['TransactionMonth'].dt.year\n",
    "    \n",
    "    # Seasonal indicators\n",
    "    features_df['IsWinter'] = features_df['Month'].isin([12, 1, 2]).astype(int)\n",
    "    features_df['IsSummer'] = features_df['Month'].isin([6, 7, 8]).astype(int)\n",
    "\n",
    "# 6. Interaction features\n",
    "print(\"🔗 Creating interaction features...\")\n",
    "if 'VehicleAge' in features_df.columns and 'GenderRisk' in features_df.columns:\n",
    "    features_df['AgeGenderInteraction'] = features_df['VehicleAge'] * features_df['GenderRisk']\n",
    "\n",
    "if 'ProvinceRiskScore' in features_df.columns and 'HighRiskVehicle' in features_df.columns:\n",
    "    features_df['ProvinceVehicleRisk'] = features_df['ProvinceRiskScore'] * features_df['HighRiskVehicle']\n",
    "\n",
    "# 7. Statistical features\n",
    "print(\"📊 Creating statistical features...\")\n",
    "# Rolling averages by customer (if customer ID available)\n",
    "if 'CustomerID' in features_df.columns:\n",
    "    customer_stats = features_df.groupby('CustomerID').agg({\n",
    "        'TotalPremium': ['mean', 'std', 'count'],\n",
    "        'TotalClaims': ['mean', 'sum'],\n",
    "        'ClaimRate': 'mean'\n",
    "    }).round(4)\n",
    "    \n",
    "    customer_stats.columns = ['_'.join(col).strip() for col in customer_stats.columns]\n",
    "    customer_stats = customer_stats.add_prefix('Customer_')\n",
    "    \n",
    "    features_df = features_df.merge(customer_stats, left_on='CustomerID', right_index=True, how='left')\n",
    "\n",
    "print(f\"\\n✅ Feature engineering complete!\")\n",
    "print(f\"📊 Original features: {data.shape[1]}\")\n",
    "print(f\"🔧 Engineered features: {features_df.shape[1]}\")\n",
    "print(f\"➕ New features added: {features_df.shape[1] - data.shape[1]}\")\n",
    "\n",
    "# Display new features\n",
    "new_features = [col for col in features_df.columns if col not in data.columns]\n",
    "print(f\"\\n🆕 New features created: {new_features[:10]}{'...' if len(new_features) > 10 else ''}\")"
   ]
  },
  {
   "cell_type": "markdown",
   "metadata": {},
   "source": [
    "## 🎯 Target Variable Analysis and Preparation"
   ]
  },
  {
   "cell_type": "code",
   "execution_count": 9,
   "metadata": {},
   "outputs": [
    {
     "name": "stdout",
     "output_type": "stream",
     "text": [
      "🎯 TARGET VARIABLE ANALYSIS\n",
      "========================================\n",
      "\n",
      "📊 Premium Prediction (TotalPremium):\n",
      "  Count: 1\n",
      "  Mean: 16076.8419\n",
      "  Std: nan\n",
      "  Range: [16076.8419, 16076.8419]\n",
      "  Skewness: nan (Approximately normal)\n",
      "\n",
      "📊 Claims Prediction (TotalClaims):\n",
      "  Count: 1\n",
      "  Mean: 17211.4225\n",
      "  Std: nan\n",
      "  Range: [17211.4225, 17211.4225]\n",
      "  Skewness: nan (Approximately normal)\n",
      "\n",
      "📊 Risk Score Prediction (RiskScore):\n",
      "  Count: 1\n",
      "  Mean: 1.0705\n",
      "  Std: nan\n",
      "  Range: [1.0705, 1.0705]\n",
      "  Skewness: nan (Approximately normal)\n"
     ]
    },
    {
     "data": {
      "image/png": "[encoded data removed]",
      "text/plain": [
       "<Figure size 1800x1200 with 6 Axes>"
      ]
     },
     "metadata": {},
     "output_type": "display_data"
    },
    {
     "name": "stdout",
     "output_type": "stream",
     "text": [
      "\n",
      "🔗 Target Variable Correlations:\n",
      "              TotalPremium  TotalClaims  RiskScore\n",
      "TotalPremium           NaN          NaN        NaN\n",
      "TotalClaims            NaN          NaN        NaN\n",
      "RiskScore              NaN          NaN        NaN\n",
      "\n",
      "🎯 Primary target selected: TotalPremium\n",
      "📊 Target statistics: Mean=16076.84, Std=nan\n"
     ]
    }
   ],
   "source": [
    "print(\"🎯 TARGET VARIABLE ANALYSIS\")\n",
    "print(\"=\" * 40)\n",
    "\n",
    "# Define target variables for different prediction tasks\n",
    "target_variables = {\n",
    "    'TotalPremium': 'Premium Prediction',\n",
    "    'TotalClaims': 'Claims Prediction',\n",
    "    'RiskScore': 'Risk Score Prediction'\n",
    "}\n",
    "\n",
    "# Analyze each target variable\n",
    "fig, axes = plt.subplots(2, 3, figsize=(18, 12))\n",
    "axes = axes.ravel()\n",
    "\n",
    "target_stats = {}\n",
    "\n",
    "for i, (target, description) in enumerate(target_variables.items()):\n",
    "    target_data = features_df[target].dropna()\n",
    "    \n",
    "    # Basic statistics\n",
    "    stats_dict = {\n",
    "        'count': len(target_data),\n",
    "        'mean': target_data.mean(),\n",
    "        'std': target_data.std(),\n",
    "        'min': target_data.min(),\n",
    "        'max': target_data.max(),\n",
    "        'skewness': target_data.skew(),\n",
    "        'kurtosis': target_data.kurtosis()\n",
    "    }\n",
    "    target_stats[target] = stats_dict\n",
    "    \n",
    "    print(f\"\\n📊 {description} ({target}):\")\n",
    "    print(f\"  Count: {stats_dict['count']:,}\")\n",
    "    print(f\"  Mean: {stats_dict['mean']:.4f}\")\n",
    "    print(f\"  Std: {stats_dict['std']:.4f}\")\n",
    "    print(f\"  Range: [{stats_dict['min']:.4f}, {stats_dict['max']:.4f}]\")\n",
    "    print(f\"  Skewness: {stats_dict['skewness']:.4f} ({'Right-skewed' if stats_dict['skewness'] > 0.5 else 'Left-skewed' if stats_dict['skewness'] < -0.5 else 'Approximately normal'})\")\n",
    "    \n",
    "    # Distribution plot\n",
    "    axes[i].hist(target_data, bins=50, alpha=0.7, edgecolor='black')\n",
    "    axes[i].set_title(f'{description}\\nSkewness: {stats_dict[\"skewness\"]:.2f}')\n",
    "    axes[i].set_xlabel(target)\n",
    "    axes[i].set_ylabel('Frequency')\n",
    "    \n",
    "    # Log-transformed distribution (if positive values)\n",
    "    if target_data.min() > 0:\n",
    "        log_data = np.log1p(target_data)\n",
    "        axes[i+3].hist(log_data, bins=50, alpha=0.7, edgecolor='black', color='orange')\n",
    "        axes[i+3].set_title(f'Log-transformed {description}\\nSkewness: {log_data.skew():.2f}')\n",
    "        axes[i+3].set_xlabel(f'log1p({target})')\n",
    "        axes[i+3].set_ylabel('Frequency')\n",
    "\n",
    "plt.tight_layout()\n",
    "plt.show()\n",
    "\n",
    "# Correlation analysis between targets\n",
    "print(\"\\n🔗 Target Variable Correlations:\")\n",
    "target_corr = features_df[list(target_variables.keys())].corr()\n",
    "print(target_corr.round(4))\n",
    "\n",
    "# Choose primary target based on business importance and data quality\n",
    "primary_target = 'TotalPremium'  # Most business-relevant\n",
    "print(f\"\\n🎯 Primary target selected: {primary_target}\")\n",
    "print(f\"📊 Target statistics: Mean={target_stats[primary_target]['mean']:.2f}, Std={target_stats[primary_target]['std']:.2f}\")"
   ]
  },
  {
   "cell_type": "markdown",
   "metadata": {},
   "source": [
    "## 🔍 Feature Selection and Preprocessing"
   ]
  },
  {
   "cell_type": "code",
   "execution_count": 10,
   "metadata": {},
   "outputs": [
    {
     "name": "stdout",
     "output_type": "stream",
     "text": [
      "🔍 FEATURE SELECTION AND PREPROCESSING\n",
      "==================================================\n",
      "📊 Available features: 17\n",
      "🔢 Numerical features: 13\n",
      "📝 Categorical features: 4\n",
      "\n",
      "🔢 Numerical features: ['ZipCode', 'CustomValueEstimate', 'ClaimRate', 'PremiumPerMonth', 'HighRiskVehicle', 'ProvinceRiskScore', 'GenderRisk', 'Month', 'Quarter', 'Year']...\n",
      "📝 Categorical features: ['Province', 'Gender', 'VehicleType', 'VehicleIntroDate']\n",
      "\n",
      "🔍 Missing value analysis:\n",
      "✅ No missing values detected\n",
      "\n",
      "📊 Final dataset shape: (1, 17)\n",
      "🎯 Target variable shape: (1,)\n",
      "📈 Target range: [16076.84, 16076.84]\n"
     ]
    }
   ],
   "source": [
    "print(\"🔍 FEATURE SELECTION AND PREPROCESSING\")\n",
    "print(\"=\" * 50)\n",
    "\n",
    "# Prepare features for modeling\n",
    "# Exclude non-predictive columns\n",
    "exclude_columns = [\n",
    "    'TransactionMonth',  # Temporal identifier\n",
    "    'CustomerID',        # Identifier (if present)\n",
    "    'PolicyID',          # Identifier (if present)\n",
    "    primary_target,      # Target variable\n",
    "    'TotalClaims',       # Alternative target\n",
    "    'RiskScore',         # Derived from target\n",
    "    'ClaimToPremiumRatio', # Derived from target\n",
    "    'ProfitMargin'       # Derived from target\n",
    "]\n",
    "\n",
    "# Get feature columns\n",
    "feature_columns = [col for col in features_df.columns if col not in exclude_columns]\n",
    "print(f\"📊 Available features: {len(feature_columns)}\")\n",
    "\n",
    "# Separate numerical and categorical features\n",
    "numerical_features = []\n",
    "categorical_features = []\n",
    "\n",
    "for col in feature_columns:\n",
    "    if col in features_df.columns:\n",
    "        if features_df[col].dtype in ['object', 'category']:\n",
    "            categorical_features.append(col)\n",
    "        else:\n",
    "            numerical_features.append(col)\n",
    "\n",
    "print(f\"🔢 Numerical features: {len(numerical_features)}\")\n",
    "print(f\"📝 Categorical features: {len(categorical_features)}\")\n",
    "\n",
    "# Display feature types\n",
    "print(f\"\\n🔢 Numerical features: {numerical_features[:10]}{'...' if len(numerical_features) > 10 else ''}\")\n",
    "print(f\"📝 Categorical features: {categorical_features[:10]}{'...' if len(categorical_features) > 10 else ''}\")\n",
    "\n",
    "# Create feature matrix and target vector\n",
    "X = features_df[feature_columns].copy()\n",
    "y = features_df[primary_target].copy()\n",
    "\n",
    "# Handle missing values\n",
    "print(f\"\\n🔍 Missing value analysis:\")\n",
    "missing_counts = X.isnull().sum()\n",
    "missing_features = missing_counts[missing_counts > 0]\n",
    "\n",
    "if len(missing_features) > 0:\n",
    "    print(f\"⚠️ Features with missing values:\")\n",
    "    for feature, count in missing_features.items():\n",
    "        percentage = count / len(X) * 100\n",
    "        print(f\"  {feature}: {count} ({percentage:.1f}%)\")\n",
    "    \n",
    "    # Fill missing values\n",
    "    for col in numerical_features:\n",
    "        if col in X.columns and X[col].isnull().sum() > 0:\n",
    "            X[col] = X[col].fillna(X[col].median())\n",
    "    \n",
    "    for col in categorical_features:\n",
    "        if col in X.columns and X[col].isnull().sum() > 0:\n",
    "            X[col] = X[col].fillna(X[col].mode()[0] if len(X[col].mode()) > 0 else 'Unknown')\n",
    "    \n",
    "    print(\"✅ Missing values handled\")\n",
    "else:\n",
    "    print(\"✅ No missing values detected\")\n",
    "\n",
    "# Remove target missing values\n",
    "valid_indices = ~y.isnull()\n",
    "X = X[valid_indices]\n",
    "y = y[valid_indices]\n",
    "\n",
    "print(f\"\\n📊 Final dataset shape: {X.shape}\")\n",
    "print(f\"🎯 Target variable shape: {y.shape}\")\n",
    "print(f\"📈 Target range: [{y.min():.2f}, {y.max():.2f}]\")"
   ]
  },
  {
   "cell_type": "markdown",
   "metadata": {},
   "source": [
    "## 🔄 Data Splitting and Preprocessing Pipeline"
   ]
  },
  {
   "cell_type": "code",
   "execution_count": 14,
   "metadata": {},
   "outputs": [
    {
     "name": "stdout",
     "output_type": "stream",
     "text": [
      "🔄 DATA SPLITTING AND PREPROCESSING PIPELINE\n",
      "=======================================================\n",
      "📊 Dataset shape: (10000, 10)\n",
      "Columns: ['PolicyID', 'Province', 'ZipCode', 'Gender', 'VehicleType', 'VehicleIntroDate', 'CustomValueEstimate', 'TotalPremium', 'TotalClaims', 'TransactionMonth']\n",
      "📊 Data split sizes:\n",
      "  Training set: 6000 samples\n",
      "  Validation set: 2000 samples\n",
      "  Test set: 2000 samples\n",
      "✅ Preprocessing complete! Processed feature dimensions: 10383\n",
      "📝 Feature names extracted: 10383 features\n",
      "\n",
      "📋 Preprocessing summary:\n",
      "  Original features: 7\n",
      "  Processed features: 10383\n",
      "  Feature expansion: 10376\n"
     ]
    }
   ],
   "source": [
    "print(\"🔄 DATA SPLITTING AND PREPROCESSING PIPELINE\")\n",
    "print(\"=\" * 55)\n",
    "\n",
    "# --- Load full dataset ---\n",
    "data = pd.read_csv('../data/MachineLearningRating_v3.csv')\n",
    "print(f\"📊 Dataset shape: {data.shape}\")\n",
    "print(f\"Columns: {list(data.columns)}\")  # Verify column names\n",
    "\n",
    "# --- Define features and target ---\n",
    "feature_columns = [\n",
    "    'Province', 'ZipCode', 'Gender', 'VehicleType', \n",
    "    'VehicleIntroDate', 'CustomValueEstimate', 'TotalPremium'\n",
    "]\n",
    "\n",
    "numerical_features = ['CustomValueEstimate', 'TotalPremium']\n",
    "categorical_features = ['Province', 'ZipCode', 'Gender', 'VehicleType', 'VehicleIntroDate']\n",
    "\n",
    "# If RiskScore doesn't exist, use TotalClaims as target\n",
    "target_column = 'TotalClaims'\n",
    "\n",
    "X = data[feature_columns]\n",
    "y = data[target_column]\n",
    "\n",
    "# --- Split data: 60% train, 20% validation, 20% test ---\n",
    "from sklearn.model_selection import train_test_split\n",
    "from sklearn.preprocessing import RobustScaler, OneHotEncoder\n",
    "from sklearn.pipeline import Pipeline\n",
    "from sklearn.compose import ColumnTransformer\n",
    "\n",
    "X_temp, X_test, y_temp, y_test = train_test_split(\n",
    "    X, y, test_size=0.2, random_state=42\n",
    ")\n",
    "\n",
    "X_train, X_val, y_train, y_val = train_test_split(\n",
    "    X_temp, y_temp, test_size=0.25, random_state=42\n",
    ")\n",
    "\n",
    "print(f\"📊 Data split sizes:\")\n",
    "print(f\"  Training set: {X_train.shape[0]} samples\")\n",
    "print(f\"  Validation set: {X_val.shape[0]} samples\")\n",
    "print(f\"  Test set: {X_test.shape[0]} samples\")\n",
    "\n",
    "# --- Preprocessing pipeline ---\n",
    "numerical_transformer = Pipeline(steps=[('scaler', RobustScaler())])\n",
    "\n",
    "categorical_transformer = Pipeline(steps=[\n",
    "    ('onehot', OneHotEncoder(drop='first', sparse_output=False, handle_unknown='ignore'))\n",
    "])\n",
    "\n",
    "preprocessor = ColumnTransformer(\n",
    "    transformers=[\n",
    "        ('num', numerical_transformer, numerical_features),\n",
    "        ('cat', categorical_transformer, categorical_features)\n",
    "    ],\n",
    "    remainder='passthrough'\n",
    ")\n",
    "\n",
    "# Fit and transform\n",
    "X_train_processed = preprocessor.fit_transform(X_train)\n",
    "X_val_processed = preprocessor.transform(X_val)\n",
    "X_test_processed = preprocessor.transform(X_test)\n",
    "\n",
    "print(f\"✅ Preprocessing complete! Processed feature dimensions: {X_train_processed.shape[1]}\")\n",
    "\n",
    "# --- Extract feature names ---\n",
    "feature_names = numerical_features.copy()\n",
    "if len(categorical_features) > 0:\n",
    "    cat_encoder = preprocessor.named_transformers_['cat']['onehot']\n",
    "    cat_feature_names = cat_encoder.get_feature_names_out(categorical_features)\n",
    "    feature_names.extend(cat_feature_names)\n",
    "\n",
    "print(f\"📝 Feature names extracted: {len(feature_names)} features\")\n",
    "\n",
    "# --- Store preprocessing summary ---\n",
    "preprocessing_info = {\n",
    "    'numerical_features': numerical_features,\n",
    "    'categorical_features': categorical_features,\n",
    "    'feature_names': feature_names,\n",
    "    'n_features_original': len(feature_columns),\n",
    "    'n_features_processed': X_train_processed.shape[1]\n",
    "}\n",
    "\n",
    "print(f\"\\n📋 Preprocessing summary:\")\n",
    "print(f\"  Original features: {preprocessing_info['n_features_original']}\")\n",
    "print(f\"  Processed features: {preprocessing_info['n_features_processed']}\")\n",
    "print(f\"  Feature expansion: {preprocessing_info['n_features_processed'] - preprocessing_info['n_features_original']}\")\n"
   ]
  },
  {
   "cell_type": "markdown",
   "metadata": {},
   "source": [
    "## 🤖 Model Training and Evaluation\n",
    "\n",
    "We'll train multiple models and compare their performance using comprehensive evaluation metrics."
   ]
  },
  {
   "cell_type": "code",
   "execution_count": 16,
   "metadata": {},
   "outputs": [
    {
     "name": "stdout",
     "output_type": "stream",
     "text": [
      "🤖 MODEL TRAINING AND EVALUATION\n",
      "=============================================\n",
      "\n",
      "🏋️ Training models...\n",
      "\n",
      "🔄 Training Ridge Regression...\n",
      "  ⏱️ Training time: 4.72s\n",
      "  📊 Validation R²: -0.0403\n",
      "  📊 Validation RMSE: 7451.50\n",
      "\n",
      "🔄 Training Lasso Regression...\n",
      "  ⏱️ Training time: 2.50s\n",
      "  📊 Validation R²: -0.0593\n",
      "  📊 Validation RMSE: 7519.11\n",
      "\n",
      "🔄 Training Random Forest...\n",
      "  ⏱️ Training time: 1222.70s\n",
      "  📊 Validation R²: -0.1634\n",
      "  📊 Validation RMSE: 7879.95\n",
      "\n",
      "🔄 Training XGBoost...\n",
      "  ⏱️ Training time: 6.13s\n",
      "  📊 Validation R²: 0.0009\n",
      "  📊 Validation RMSE: 7302.49\n",
      "\n",
      "✅ All models trained successfully!\n"
     ]
    }
   ],
   "source": [
    "print(\"🤖 MODEL TRAINING AND EVALUATION\")\n",
    "print(\"=\" * 45)\n",
    "\n",
    "# Ensure processed arrays are numeric and finite\n",
    "import numpy as np\n",
    "\n",
    "X_train_processed = np.nan_to_num(X_train_processed, nan=0.0, posinf=0.0, neginf=0.0)\n",
    "X_val_processed = np.nan_to_num(X_val_processed, nan=0.0, posinf=0.0, neginf=0.0)\n",
    "X_test_processed = np.nan_to_num(X_test_processed, nan=0.0, posinf=0.0, neginf=0.0)\n",
    "\n",
    "# Define models\n",
    "from sklearn.linear_model import LinearRegression, Ridge, Lasso\n",
    "from sklearn.ensemble import RandomForestRegressor\n",
    "import xgboost as xgb\n",
    "from sklearn.metrics import mean_absolute_error, mean_squared_error, r2_score, explained_variance_score\n",
    "\n",
    "models = {\n",
    "    # LinearRegression may fail on huge one-hot matrices, keep for small tests\n",
    "    'Ridge Regression': Ridge(alpha=1.0, random_state=42),\n",
    "    'Lasso Regression': Lasso(alpha=1.0, random_state=42, max_iter=5000),\n",
    "    'Random Forest': RandomForestRegressor(n_estimators=100, random_state=42, n_jobs=-1),\n",
    "    'XGBoost': xgb.XGBRegressor(n_estimators=100, random_state=42, n_jobs=-1)\n",
    "}\n",
    "\n",
    "# Metrics function\n",
    "def calculate_metrics(y_true, y_pred):\n",
    "    return {\n",
    "        'MAE': mean_absolute_error(y_true, y_pred),\n",
    "        'MSE': mean_squared_error(y_true, y_pred),\n",
    "        'RMSE': np.sqrt(mean_squared_error(y_true, y_pred)),\n",
    "        'R²': r2_score(y_true, y_pred),\n",
    "        'Explained Variance': explained_variance_score(y_true, y_pred)\n",
    "    }\n",
    "\n",
    "model_results = {}\n",
    "trained_models = {}\n",
    "\n",
    "print(\"\\n🏋️ Training models...\")\n",
    "\n",
    "for name, model in models.items():\n",
    "    print(f\"\\n🔄 Training {name}...\")\n",
    "    \n",
    "    start_time = pd.Timestamp.now()\n",
    "    model.fit(X_train_processed, y_train)\n",
    "    training_time = (pd.Timestamp.now() - start_time).total_seconds()\n",
    "    \n",
    "    y_train_pred = model.predict(X_train_processed)\n",
    "    y_val_pred = model.predict(X_val_processed)\n",
    "    \n",
    "    train_metrics = calculate_metrics(y_train, y_train_pred)\n",
    "    val_metrics = calculate_metrics(y_val, y_val_pred)\n",
    "    \n",
    "    model_results[name] = {\n",
    "        'train_metrics': train_metrics,\n",
    "        'val_metrics': val_metrics,\n",
    "        'training_time': training_time,\n",
    "        'predictions': {'train': y_train_pred, 'val': y_val_pred}\n",
    "    }\n",
    "    trained_models[name] = model\n",
    "    \n",
    "    print(f\"  ⏱️ Training time: {training_time:.2f}s\")\n",
    "    print(f\"  📊 Validation R²: {val_metrics['R²']:.4f}\")\n",
    "    print(f\"  📊 Validation RMSE: {val_metrics['RMSE']:.2f}\")\n",
    "\n",
    "print(\"\\n✅ All models trained successfully!\")\n"
   ]
  },
  {
   "cell_type": "markdown",
   "metadata": {},
   "source": [
    "## 📊 Model Comparison and Selection"
   ]
  },
  {
   "cell_type": "code",
   "execution_count": 18,
   "metadata": {},
   "outputs": [
    {
     "name": "stdout",
     "output_type": "stream",
     "text": [
      "📊 MODEL COMPARISON AND SELECTION\n",
      "=============================================\n",
      "\n",
      "📋 Model Performance Comparison:\n",
      "           Model  Train_R²  Val_R²  Train_RMSE  Val_RMSE  Train_MAE   Val_MAE  Val_MAPE  Training_Time  Overfit_Score\n",
      "Ridge Regression    0.8659 -0.0403   2691.0563 7451.5022  2203.1782 6159.2454       NaN         4.7166         0.9062\n",
      "Lasso Regression    0.6177 -0.0593   4544.6094 7519.1094  4022.1872 6151.4140       NaN         2.4955         0.6769\n",
      "   Random Forest    0.8380 -0.1634   2958.0861 7879.9464  2347.3604 6303.7397       NaN      1222.7044         1.0014\n",
      "         XGBoost    0.1645  0.0009   6718.0867 7302.4903  5690.6953 6035.3723       NaN         6.1326         0.1636\n",
      "\n",
      "🏆 Model Rankings (by Validation R²):\n",
      "  1. XGBoost: R² = 0.0009, RMSE = 7302.49\n",
      "  2. Ridge Regression: R² = -0.0403, RMSE = 7451.50\n",
      "  3. Lasso Regression: R² = -0.0593, RMSE = 7519.11\n",
      "  4. Random Forest: R² = -0.1634, RMSE = 7879.95\n",
      "\n",
      "🥇 Best Model Selected: XGBoost\n",
      "📊 Performance Metrics:\n",
      "  MAE: 6035.3723\n",
      "  MSE: 53326365.1912\n",
      "  RMSE: 7302.4903\n",
      "  R²: 0.0009\n",
      "  Explained Variance: 0.0017\n",
      "\n",
      "⚠️ Potential overfitting detected (difference: 0.1636)\n",
      "💡 Consider regularization, cross-validation, or reducing feature dimensionality\n"
     ]
    }
   ],
   "source": [
    "print(\"📊 MODEL COMPARISON AND SELECTION\")\n",
    "print(\"=\" * 45)\n",
    "\n",
    "# Create comparison DataFrame\n",
    "comparison_data = []\n",
    "\n",
    "for name, results in model_results.items():\n",
    "    train_metrics = results['train_metrics']\n",
    "    val_metrics = results['val_metrics']\n",
    "    \n",
    "    comparison_data.append({\n",
    "        'Model': name,\n",
    "        'Train_R²': train_metrics.get('R²', np.nan),\n",
    "        'Val_R²': val_metrics.get('R²', np.nan),\n",
    "        'Train_RMSE': train_metrics.get('RMSE', np.nan),\n",
    "        'Val_RMSE': val_metrics.get('RMSE', np.nan),\n",
    "        'Train_MAE': train_metrics.get('MAE', np.nan),\n",
    "        'Val_MAE': val_metrics.get('MAE', np.nan),\n",
    "        'Val_MAPE': val_metrics.get('MAPE', np.nan),  # <- safely get MAPE\n",
    "        'Training_Time': results.get('training_time', np.nan),\n",
    "        'Overfit_Score': train_metrics.get('R²', 0) - val_metrics.get('R²', 0)\n",
    "    })\n",
    "\n",
    "comparison_df = pd.DataFrame(comparison_data).round(4)\n",
    "\n",
    "# Display comparison table\n",
    "print(\"\\n📋 Model Performance Comparison:\")\n",
    "print(comparison_df.to_string(index=False))\n",
    "\n",
    "# Rank models by validation R²\n",
    "comparison_df_sorted = comparison_df.sort_values('Val_R²', ascending=False)\n",
    "print(f\"\\n🏆 Model Rankings (by Validation R²):\")\n",
    "for i, (_, row) in enumerate(comparison_df_sorted.iterrows(), 1):\n",
    "    print(f\"  {i}. {row['Model']}: R² = {row['Val_R²']:.4f}, RMSE = {row['Val_RMSE']:.2f}\")\n",
    "\n",
    "# Select best model\n",
    "best_model_name = comparison_df_sorted.iloc[0]['Model']\n",
    "best_model = trained_models[best_model_name]\n",
    "best_results = model_results[best_model_name]\n",
    "\n",
    "print(f\"\\n🥇 Best Model Selected: {best_model_name}\")\n",
    "print(f\"📊 Performance Metrics:\")\n",
    "for metric, value in best_results['val_metrics'].items():\n",
    "    if metric == 'MAPE':\n",
    "        print(f\"  {metric}: {value:.2f}%\")\n",
    "    else:\n",
    "        print(f\"  {metric}: {value:.4f}\")\n",
    "\n",
    "# Check for overfitting\n",
    "overfitting_threshold = 0.1\n",
    "overfitting_score = comparison_df_sorted.iloc[0]['Overfit_Score']\n",
    "\n",
    "if overfitting_score > overfitting_threshold:\n",
    "    print(f\"\\n⚠️ Potential overfitting detected (difference: {overfitting_score:.4f})\")\n",
    "    print(\"💡 Consider regularization, cross-validation, or reducing feature dimensionality\")\n",
    "else:\n",
    "    print(f\"\\n✅ Good generalization (train-val difference: {overfitting_score:.4f})\")\n"
   ]
  },
  {
   "cell_type": "markdown",
   "metadata": {},
   "source": [
    "## 📈 Model Performance Visualization"
   ]
  },
  {
   "cell_type": "code",
   "execution_count": 19,
   "metadata": {},
   "outputs": [
    {
     "data": {
      "application/vnd.plotly.v1+json": {
       "config": {
        "plotlyServerURL": "https://plot.ly"
       },
       "data": [
        {
         "marker": {
          "color": "lightblue"
         },
         "name": "Validation R²",
         "type": "bar",
         "x": [
          "Ridge Regression",
          "Lasso Regression",
          "Random Forest",
          "XGBoost"
         ],
         "xaxis": "x",
         "y": [
          -0.0403,
          -0.0593,
          -0.1634,
          0.0009
         ],
         "yaxis": "y"
        },
        {
         "marker": {
          "color": "red",
          "opacity": 0.6,
          "size": 4
         },
         "mode": "markers",
         "name": "Predictions",
         "type": "scatter",
         "x": {
          "bdata": "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",
          "dtype": "f8"
         },
         "xaxis": "x2",
         "y": {
          "bdata": "iyoaRkZfBkZGXwZGRl8GRosqGkZGXwZGfcUBRkZfBkZGXwZGRl8GRg7EF0ZGXwZGRl8GRosqGkZGXwZGpFNKRmHLAEZGXwZGp4EoRoMlS0ZhywBGiyoaRkZfBkY0JgRGYcsARosqGkZGXwZGeQUARmHLAEY0JgRGRl8GRmHLAEZGXwZGRl8GRosqGkZGXwZGRl8GRkZfBkaLKhpGRl8GRkZfBkbd9wxGRl8GRosqGkZGXwZGYcsARkZfBkZGXwZGiyoaRosqGkaLKhpGRl8GRkZfBkZGXwZGYcsARkZfBkZGXwZGNCYERmHLAEZGXwZGiyoaRkZfBkaLKhpGRl8GRmHLAEZGXwZGRl8GRmHLAEaLKhpGiyoaRosqGkZGXwZGNCYERkZfBkZGXwZGiyoaRosqGkZGXwZGRl8GRosqGkaLKhpGRl8GRkZfBkaLKhpGiyoaRkZfBkZ5BQBGRl8GRmHLAEZGXwZGRl8GRosqGkZhywBGiyoaRkZfBkZhywBGRl8GRkZfBkaLKhpGYcsARkZfBkZGXwZGRl8GRkZfBkZGXwZGRl8GRmHLAEZGXwZGYcsARmHLAEY0JgRGRl8GRkZfBkZGXwZGiyoaRkZfBkZGXwZGRl8GRosqGkZhywBGRl8GRosqGkaLKhpGYcsARmHLAEZGXwZGRl8GRkZfBkZhywBGRl8GRkZfBkZGXwZGiyoaRkZfBkYOxBdGRl8GRosqGkZGXwZGRl8GRkZfBkZGXwZGYcsARkZfBkZGXwZGYcsARosqGkaLKhpGiyoaRosqGkY0JgRGRl8GRkZfBkaukQxGYcsARkZfBkZGXwZGiyoaRkZfBkZGXwZGRl8GRosqGkZGXwZGRl8GRmHLAEadOgpGRl8GRosqGkZChP9FiyoaRosqGkZGXwZGiyoaRkZfBkZGXwZGiyoaRoZJQ0ZhywBGRl8GRosqGkaLKhpGiyoaRkZfBkaLKhpGRl8GRosqGkaLKhpGRl8GRkZfBkaLKhpGiyoaRkZfBkZhywBGRl8GRkZfBkbfnE1GiyoaRosqGkZhywBGRl8GRmHLAEaLKhpGiyoaRkZfBkZhywBGiyoaRkZfBkZhywBGiyoaRmHLAEZGXwZGiyoaRmHLAEaLKhpGRl8GRkZfBkZGXwZGRl8GRkZfBkZGXwZGRl8GRkZfBkZGXwZGRl8GRtFZl0avcwxGRl8GRosqGkZhywBGNCYERkZfBkZGXwZGRl8GRkZfBkZhywBGRl8GRosqGkZGXwZGRl8GRkZfBkY0JgRGRl8GRosqGkZGXwZGRl8GRosqGkZGXwZGRl8GRkZfBkZGXwZGRl8GRjLNykWLKhpGiyoaRkZfBkaLKhpGRl8GRgU/gUZGXwZGRl8GRkZfBkaLKhpGYcsARkZfBkaLKhpGiyoaRosqGkaLKhpGRl8GRkZfBkZGXwZGYcsARjQmBEaTCPpFiyoaRmHLAEZGXwZGiyoaRkZfBkZGXwZGRl8GRosqGkZGXwZGRl8GRg7EF0ZGXwZGNCYERkZfBkaLKhpGRl8GRkZfBkZGXwZGRl8GRosqGkZGXwZGiyoaRkZfBkY0JgRGiyoaRkZfBkZGXwZGRl8GRkZfBkZGXwZGRl8GRosqGkZGXwZGRl8GRkZfBkZGXwZGYcsARkZfBkaLKhpGRl8GRn6i10WLKhpGRl8GRkZfBkZGXwZGRl8GRmHLAEaLKhpGRl8GRosqGkZhywBGiyoaRq5qBkaLKhpGYcsARmHLAEZGXwZGKZ+ARosqGkZGXwZGRl8GRosqGkaLKhpGRl8GRn3FAUZhywBGRl8GRkZfBkZGXwZGRl8GRj3gzkVGXwZGRl8GRkZfBkZGXwZGRl8GRosqGkZGXwZGRl8GRosqGkZGXwZGrpEMRmHLAEZGXwZGRl8GRosqGkaLKhpGRl8GRkZfBkY0JgRGRl8GRkZfBkZGXwZGRl8GRosqGkZGXwZGRl8GRosqGkZGXwZGRl8GRosqGkZhywBGRl8GRjQmBEaLKhpGiyoaRkZfBkY6PyRGRl8GRiBhIUZGXwZGYcsARmHLAEZGXwZGYcsARkZfBkZGXwZGiyoaRhIEPEaLKhpGRl8GRosqGkaLKhpGRl8GRkZfBkZGXwZGiyoaRpxYCkZGXwZGRl8GRkZfBkYffR9GYcsARosqGkaLKhpGRl8GRkZfBkaLKhpGYcsARkZfBkZKzCZGiyoaRmHLAEaukQxGiyoaRosqGkZGXwZGRl8GRkZfBkaLKhpGRl8GRkZfBkZGXwZGRl8GRkZfBkZGXwZGRl8GRmHLAEZ5BQBGRl8GRmHLAEZGXwZGRl8GRkZfBkZGXwZGRl8GRkZfBkZGXwZGvtATRosqGkZGXwZGRl8GRmHLAEZhywBGRl8GRkZfBkZGXwZGRl8GRkZfBkaLKhpGRl8GRq6RDEaLKhpGRl8GRkZfBkZhywBGRl8GRmHLAEaLKhpGiyoaRkZfBkZGXwZGRl8GRosqGkaLKhpGRl8GRkZfBkYr4/RFRl8GRkZfBkZGXwZGYcsARmHLAEZGXwZGNCYERosqGkZhywBGRl8GRkZfBkZGXwZGRl8GRosqGkZGXwZGYcsARkZfBkaLKhpGiyoaRkZfBkZGXwZGYcsARkZfBkaukQxGiyoaRkZfBkZGXwZGiyoaRmHLAEaLKhpGiyoaRosqGkZhywBGnQEqRosqGkaLKhpGYcsARkZfBkZGXwZGr3MMRkZfBkaLKhpGYcsARkZfBkZGXwZGK+P0RWHLAEZGXwZGRl8GRqeBKEaLKhpGRl8GRosqGkZGXwZGiyoaRkZfBkZGXwZGRl8GRkZfBkZGXwZGRl8GRosqGkZhywBGYcsARkZfBkZGXwZGYcsARkZfBkaLKhpGiyoaRosqGkZGXwZGRl8GRkZfBkbfnE1GiyoaRmHLAEZGXwZGRl8GRkZfBkZGXwZGRl8GRmHLAEZGXwZGYcsARosqGkaukQxGRl8GRkZfBkaLKhpGRl8GRosqGkZGXwZGRl8GRkZfBkZGXwZGiyoaRmHLAEaLKhpGRl8GRmHLAEZGXwZGRl8GRosqGkaLKhpGYcsARosqGkaLKhpGRl8GRkZfBkaLKhpGRl8GRkZfBkZGXwZGRl8GRosqGkZGXwZGRl8GRkZfBkZGXwZGiyoaRkZfBkZGXwZGNCYERkZfBkZGXwZGRl8GRosqGkZGXwZGRl8GRkZfBkZGXwZGYcsARkZfBkZGXwZGRl8GRosqGkZGXwZGRl8GRuhFU0ZhywBGiyoaRmHLAEZGXwZGYcsARosqGkZGXwZGrpEMRkZfBkZGXwZGRl8GRjQmBEZGXwZGiyoaRkZfBkaLKhpGRl8GRmHLAEaLKhpGRl8GRkZfBkZGXwZGRl8GRkZfBkaLKhpGRl8GRmHLAEaLKhpGiyoaRkZfBkZGXwZGRl8GRjQmBEZGXwZGRl8GRkZfBkZGXwZGiyoaRosqGkZGXwZGRl8GRmHLAEZGXwZGiyoaRmHLAEaLKhpGiyoaRkZfBkZGXwZGiyoaRmHLAEZGXwZGiyoaRtQJSEaLKhpGRl8GRkZfBkZhywBGRl8GRosqGkZhywBGiyoaRosqGkZGXwZGRl8GRosqGkZGXwZGRl8GRosqGkZGXwZGfcUBRmHLAEZhywBGRl8GRkZfBkZ5BQBGiyoaRkZfBkaLKhpGRl8GRkZfBkZGXwZGiyoaRj9Kx0WLKhpGYcsARqm8KkY0JgRGYcsARkZfBkZGXwZGRl8GRkZfBkaLKhpGiyoaRkZfBkaLKhpGRl8GRkZfBkaLKhpGRl8GRn3FAUaLKhpGiyoaRosqGkZGXwZGRl8GRkZfBkZGXwZGRl8GRosqGkaLKhpGRl8GRkZfBkaLKhpGRl8GRmHLAEaLKhpGRl8GRkZfBkaLKhpGRl8GRosqGkZGXwZGYcsARosqGkaLKhpGYcsARkZfBkZGXwZGRl8GRmHLAEZGXwZGiyoaRkZfBkZDe6FFRl8GRkZfBkZGXwZGRl8GRkZfBkZGXwZGRl8GRkZfBkZGXwZGRl8GRkZfBkZGXwZGRl8GRosqGkYCGyNGiyoaRkZfBkZGXwZGRl8GRosqGkZGXwZGeQUARmHLAEZGXwZGRl8GRkZfBkZGXwZGRl8GRmHLAEZhywBGhIQkRlXTJUaLKhpGDsQXRkZfBkZGXwZGYcsARkZfBkZGXwZGRl8GRosqGkZGXwZGRl8GRkZfBkZfAVRGRl8GRkZfBkaLKhpGRl8GRkZfBkZGXwZGRl8GRosqGkaLKhpGr3MMRmHLAEaukQxGCo4mRmHLAEaLKhpGiyoaRkZfBkaLKhpGRl8GRkZfBkZGXwZGiyoaRkZfBkaLKhpGRl8GRmHLAEZGXwZGRl8GRosqGkZGXwZGYcsARpMI+kWLKhpGRl8GRosqGkbJ/QZGYcsARjI4fkaLKhpGiyoaRosqGkZGXwZGRl8GRosqGkZGXwZGRl8GRjQmBEZGXwZGRl8GRkZfBkZGXwZGRl8GRkZfBkZGXwZGiyoaRkZfBkZhywBGRl8GRkZfBkZGXwZGRl8GRkZfBkZGXwZGRl8GRlPAekZGXwZGRl8GRmHLAEZGXwZGRl8GRkZfBkZGXwZGiyoaRosqGkY0JgRGiyoaRosqGkZhywBGYcsARmHLAEZ5BQBGRl8GRkZfBkaLKhpGRl8GRmHLAEZGXwZGRl8GRmHLAEaLKhpGiyoaRkZfBkZGXwZGRl8GRkZfBkZGXwZGRl8GRosqGkZhywBGRl8GRkZfBkZGXwZGYcsARjQmBEaLKhpGiyoaRn6nAUZGXwZGRl8GRkZfBkZhywBGRl8GRosqGkZGXwZGYcsARmHLAEZGXwZGYcsARosqGkZGXwZGRl8GRkZfBkaLKhpGYcsARkZfBkZhywBGRl8GRosqGkZGXwZGiyoaRmHLAEZGXwZGRl8GRkZfBkZGXwZGiyoaRkZfBkZGXwZGRl8GRkZfBkZGXwZGiyoaRgUCSkZGXwZGRl8GRosqGkZGXwZGRl8GRkZfBkZhywBGRl8GRkZfBkZGXwZGRl8GRosqGkZGXwZGiyoaRkZfBkaLKhpGNCYERkZfBkZGXwZGRl8GRkZfBkZGXwZGiyoaRkZfBkZGXwZGiyoaRkZfBkY0JgRGRl8GRkZfBkZGXwZGRl8GRkZfBkZGXwZGiyoaRosqGkZGXwZGRl8GRmHLAEZGXwZGYcsARkZfBkZGXwZGiyoaRkZfBkZfAVRGYcsARmHLAEZGXwZGRl8GRkZfBkZGXwZGRl8GRkZfBkZGXwZGiyoaRosqGkaLKhpGRl8GRmHLAEaodXlGRl8GRkZfBkZGXwZGRl8GRrRyxkVhywBGRl8GRkZfBkaLKhpGRl8GRnkFAEYCFU9GYcsARosqGkZGXwZGRl8GRkZfBkZGXwZGiyoaRosqGkZGXwZGRl8GRq6RDEZGXwZGRl8GRkZfBkZ5BQBGRl8GRjeAPkaLKhpGYcsARkZfBkZGXwZGiyoaRkZfBkZGXwZGYcsARkZfBkZhywBGRl8GRkZfBkZGXwZGRl8GRkZfBkaukQxGRl8GRkZfBkZGXwZGiyoaRkZfBkZ5BQBGRl8GRkZfBkZGXwZGRl8GRr7QE0aLKhpGiyoaRkZfBkZGXwZGRl8GRmHLAEZhywBGRl8GRosqGkZhywBGYcsARkZfBkbd9wxGRl8GRmHLAEaLKhpGRl8GRkZfBkaLKhpGRl8GRosqGkZGXwZGRl8GRkZfBkZGXwZGYcsARkZfBkZGXwZGRl8GRosqGkZGXwZGRl8GRkZfBkZGXwZGRl8GRmHLAEZGXwZGRl8GRkZfBkZGXwZGRl8GRkZfBkZGXwZGRl8GRkZfBkaLKhpGRl8GRkZfBkaLKhpGRl8GRosqGkZGXwZGRl8GRkZfBkZhywBGYcsARmHLAEY0JgRGiyoaRkZfBkY0JgRGRl8GRjQmBEZGXwZGRl8GRmHLAEa+0BNGiyoaRkZfBkaLKhpGRl8GRkZfBkZGXwZGRl8GRiO4K0aLKhpGRl8GRu6wFEZGXwZGNCYERkZfBkZGXwZGiyoaRkZfBkZhywBGRl8GRkZfBkZGXwZGiyoaRosqGkZhywBGRl8GRosqGkZGXwZGRl8GRosqGkaLKhpGYcsARkZfBkZGXwZGYcsARosqGkZGXwZGRl8GRkZfBkaLKhpGiyoaRjQmBEaLKhpGiyoaRosqGkZGXwZGRl8GRkZfBkZ0IHNGRl8GRkZfBkY0JgRGRl8GRosqGkZGXwZGNCYERmHLAEbeGSNGRl8GRkZfBkZGXwZGiyoaRkZfBkaLKhpGiyoaRkZfBkZGXwZGRl8GRkZfBkZGXwZGRl8GRkZfBkZhywBGiyoaRkZfBkZGXwZGiyoaRmHLAEZhywBGRl8GRkZfBkaLKhpGiyoaRjQmBEZGXwZGRl8GRkZfBkZGXwZGRl8GRkZfBkZGXwZGRl8GRosqGkZGXwZGiyoaRkZfBkZGXwZGRl8GRkZfBkZhywBGRl8GRmHLAEZhywBGRl8GRmHLAEaLKhpGYcsARosqGkYffR9GRl8GRkZfBkZGXwZGiyoaRkZfBkZGXwZGiyoaRkZfBkZGXwZGiyoaRosqGkaLKhpGRl8GRkZfBkZGXwZGiyoaRkZfBkaLKhpGRl8GRkZfBkZGXwZGRl8GRkZfBkZhywBGiyoaRosqGkZhywBGRl8GRkZfBkZGXwZGRl8GRkZfBkZGXwZGiyoaRkZfBkZGXwZGRl8GRjQmBEZGXwZGkwj6RUZfBkZGXwZGNCYERosqGkaLKhpGiyoaRkZfBkYGtDNGRl8GRkZfBkZGXwZGRl8GRkZfBkZGXwZGiyoaRosqGkZGXwZGRl8GRkZfBkZGXwZGRl8GRkZfBkZGXwZGRl8GRkZfBkaukQxGRl8GRmHLAEZGXwZGRl8GRosqGkZhywBGYcsARkZfBkbBu2BGRl8GRmHLAEZGXwZGRl8GRosqGkZhywBGRl8GRkZfBkZGXwZGRl8GRkZfBkZGXwZGRl8GRosqGkZGXwZGiyoaRosqGkaLKhpGRl8GRkZfBkZGXwZGiyoaRkZfBkZhywBGYcsARkZfBkZGXwZGRl8GRosqGkZGXwZGRl8GRosqGkZGXwZGRl8GRkZfBkZhywBGiyoaRjQmBEaLKhpGRl8GRkZfBkZGXwZGRl8GRnkFAEZGXwZGAq3WRUZfBkaLKhpGr/04RkZfBkZGXwZGRl8GRkZfBkZGXwZGDsQXRkZfBkaLKhpGRl8GRkZfBkZGXwZGiyoaRosqGkZhywBGNCYERosqGkbnrihGiyoaRkZfBkaLKhpGRl8GRosqGkZGXwZGRl8GRkZfBkaLKhpGiyoaRkZfBkZGXwZGRl8GRmHLAEZGXwZGRl8GRkZfBkZGXwZGYcsARkZfBkZGXwZGXwFURkZfBkZGXwZGiyoaRkZfBkZGXwZGiyoaRkZfBkZGXwZGRl8GRkZfBkZGXwZGRl8GRosqGkZGXwZGRl8GRq6RDEZGXwZGRl8GRkZfBkZhywBGRl8GRkZfBkZhywBGYcsARmHLAEZGXwZGYcsARkZfBkZGXwZGRl8GRkZfBkZGXwZGRl8GRkZfBkaLKhpGRl8GRkZfBkaLKhpGYcsARkZfBkZGXwZGiyoaRjQmBEZGXwZGiyoaRkZfBkZGXwZGRl8GRkZfBkZGXwZGRl8GRosqGkZGXwZGiyoaRkZfBkZhywBGRl8GRosqGkZGXwZGiyoaRr7QE0ZGXwZGRl8GRkZfBkZGXwZGiyoaRosqGkZhywBGiyoaRkZfBkZGXwZGRl8GRkZfBkZGXwZGiyoaRpMI+kVGXwZGYcsARmHLAEZGXwZGNCYERkZfBkZGXwZGRl8GRosqGkZGXwZGRl8GRosqGkZGXwZGRl8GRkZfBkZGXwZGyf0GRosqGkZGXwZGYcsARkZfBkZhywBGRl8GRkZfBkY0JgRGYcsARmHLAEaLKhpGRl8GRmHLAEaLKhpGRl8GRkZfBkZGXwZGRl8GRkZfBkZGXwZGiyoaRosqGkZeZoVGYcsARosqGkaLKhpGYcsARkZfBkZGXwZGRl8GRmHLAEZGXwZGeQUARq6RDEZhywBGAq3WRYsqGkZGXwZGeQUARkZfBkYOxBdGRl8GRmHLAEZGXwZGRl8GRkZfBkZhywBGRl8GRosqGkaukQxGRl8GRkZfBkZ+pwFGRl8GRmHLAEaLKhpGYcsARosqGkZGXwZGRl8GRkZfBkZGXwZGRl8GRkZfBkZGXwZGRl8GRkZfBkZGXwZGNCYERkZfBkaLKhpGRl8GRkZfBkaLKhpGRl8GRkZfBkZGXwZGRl8GRkZfBkaLKhpGRl8GRi4RZ0aLKhpGRl8GRkZfBkaLKhpGRl8GRkZfBkZGXwZGRl8GRosqGkbYTTNGiyoaRkZfBkZGXwZGiyoaRkZfBkZGXwZGRl8GRlyZi0aLKhpGRl8GRkZfBkZhywBGiyoaRkZfBkaLKhpGYcsARkZfBkaLKhpGRl8GRosqGkZGXwZGYcsARkZfBkZGXwZGRl8GRmHLAEa+0BNGRl8GRkZfBkaLKhpGYcsARkZfBkZGXwZGiyoaRiqkUkZGXwZGiyoaRkZfBkZhywBGRl8GRmHLAEZhywBGRl8GRkZfBkaLKhpGiyoaRmHLAEaLKhpGRl8GRmvqKkaLKhpGRl8GRmHLAEZGXwZGRl8GRosqGkZGXwZGRl8GRjoSNkZGXwZGRl8GRosqGkZGXwZGRl8GRkZfBkZGXwZGYcsARosqGkZGXwZGiyoaRjQmBEZGXwZGYcsARkZfBkZGXwZGeQUARosqGkZ5BQBGRl8GRkZfBkaLKhpGfcUBRg7EF0ZGXwZGiyoaRkZfBkZGXwZGRl8GRkZfBkaLKhpGRl8GRosqGkZGXwZGsNbORYsqGkYFAkpGRl8GRkZfBkaLKhpGRl8GRkZfBkZGXwZGiyoaRosqGkZGXwZGiyoaRkZfBkZGXwZGiyoaRn3FAUZGXwZGRl8GRmHLAEZGXwZGiyoaRkZfBkaLKhpGRl8GRkZfBkZhywBGRl8GRosqGkZGXwZGfcUBRg7EF0ZGXwZGRl8GRkZfBkZGXwZGYcsARkZfBkZGXwZGRl8GRkZfBkZGXwZGRl8GRosqGkZGXwZGiyoaRkZfBkZhywBGYcsARkZfBkaLKhpGrpEMRjQmBEZGXwZGRl8GRkZfBkZGXwZGRl8GRmHLAEaLKhpGRl8GRkZfBkY0JgRGiyoaRkZfBkaLKhpGYcsARkZfBkaLKhpGiyoaRkZfBkZGXwZGiyoaRosqGkZGXwZGRl8GRosqGkZGXwZGRl8GRn10TEZGXwZGiyoaRosqGkZGXwZGRl8GRkZfBkZGXwZGRl8GRlIyVUZhywBGRl8GRosqGkZGXwZGiyoaRkZfBkZGXwZGiyoaRkZfBkZGXwZGRl8GRkZfBkZGXwZGiyoaRkZfBkZGXwZGiyoaRkZfBkZhywBGRl8GRkZfBkZhywBGRl8GRkZfBkZGXwZGRl8GRjQmBEZGXwZGiyoaRr5mKEaLKhpGK+P0RUZfBkZGXwZGiyoaRkZfBkZGXwZGYcsARosqGkYj6nxGRl8GRmHLAEZGXwZGRl8GRkZfBkY0JgRGrpEMRkZfBkZGXwZGRl8GRkZfBkZGXwZGRl8GRkZfBkaLKhpGRl8GRkZfBkZhywBGRl8GRosqGkZhywBGRl8GRjQmBEZGXwZGRl8GRkZfBkZGXwZGmR5IRosqGkZGXwZGRl8GRkZfBkZGXwZGRl8GRogXKEZGXwZGiyoaRmHLAEZGXwZGRl8GRkZfBkZhywBGRl8GRkZfBkZGXwZGRl8GRmHLAEZGXwZGiyoaRkZfBkZGXwZGiyoaRkZfBkZGXwZGRl8GRkZfBkZGXwZGiyoaRkZfBkZGXwZGiyoaRmHLAEZGXwZGYcsARosqGkZ5BQBGRl8GRmHLAEZGXwZGRl8GRkZfBkZhywBGRl8GRosqGkZGXwZGiyoaRkZfBkZGXwZGRl8GRosqGkb3YwdGRl8GRosqGkZGXwZGYcsARkZfBkZGXwZGeQUARosqGkZGXwZGiyoaRkZfBkZGXwZGRl8GRmHLAEZGXwZGiyoaRkZfBkZhywBGiyoaRosqGkaLKhpGNCYERqeBKEaLKhpGRl8GRkZfBkZGXwZGRl8GRkZfBkY0JgRGRl8GRkZfBkZhywBGRl8GRkZfBkZGXwZGRl8GRkZfBkaLKhpGiyoaRosqGkaLKhpGiyoaRmHLAEaLKhpGRl8GRmHLAEZGXwZGgyVLRosqGkZGXwZGRl8GRkZfBkZGXwZGiyoaRmHLAEaLKhpGRl8GRkZfBkZhywBGRl8GRkZfBkaLKhpGAfJgRkZfBkaukQxGRl8GRkZfBkZGXwZGiyoaRkZfBkZhywBGRl8GRkZfBkaLKhpGYcsARjQmBEZGXwZGiyoaRosqGkZGXwZGRl8GRkZfBkZGXwZGiyoaRkZfBkZGXwZGRl8GRosqGkY0JgRGRl8GRosqGkZhywBGYcsARmHLAEZGXwZGRl8GRosqGkaLKhpGRl8GRjQmBEZGXwZGYcsARosqGkZGXwZGiyoaRosqGkZ5BQBGiyoaRkZfBkaLKhpGiyoaRkZfBkZGXwZGRl8GRmHLAEaLKhpGRl8GRmHLAEZGXwZGiyoaRosqGkY=",
          "dtype": "f4"
         },
         "yaxis": "y2"
        },
        {
         "line": {
          "color": "black",
          "dash": "dash"
         },
         "mode": "lines",
         "name": "Perfect Prediction",
         "type": "scatter",
         "x": [
          0,
          37804.00806274018
         ],
         "xaxis": "x2",
         "y": [
          0,
          37804.00806274018
         ],
         "yaxis": "y2"
        },
        {
         "marker": {
          "color": "green",
          "opacity": 0.6,
          "size": 4
         },
         "mode": "markers",
         "name": "Residuals",
         "type": "scatter",
         "x": {
          "bdata": "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",
          "dtype": "f4"
         },
         "xaxis": "x3",
         "y": {
          "bdata": "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",
          "dtype": "f8"
         },
         "yaxis": "y3"
        },
        {
         "line": {
          "color": "black",
          "dash": "dash"
         },
         "mode": "lines",
         "name": "Zero Line",
         "type": "scatter",
         "x": [
          5167.40771484375,
          19372.908203125
         ],
         "xaxis": "x3",
         "y": [
          0,
          0
         ],
         "yaxis": "y3"
        },
        {
         "marker": {
          "color": "purple"
         },
         "name": "Feature Importance",
         "orientation": "h",
         "type": "bar",
         "x": {
          "bdata": "sgWIO3LsiDuEC4o7QDeOO9pskTsVa5Q7AHyUO1oDnDsFw547vVSfO0z7pzt/d6g7VPK0O/eCzjvNP9s8",
          "dtype": "f4"
         },
         "xaxis": "x4",
         "y": [
          "ZipCode_2374",
          "ZipCode_6228",
          "ZipCode_1490",
          "VehicleIntroDate_2018-10-06 01:31:09.666966656",
          "ZipCode_6289",
          "VehicleIntroDate_2016-01-22 20:03:14.419441920",
          "ZipCode_1824",
          "ZipCode_4761",
          "ZipCode_5301",
          "ZipCode_6717",
          "ZipCode_5457",
          "ZipCode_9062",
          "ZipCode_7576",
          "ZipCode_8433",
          "VehicleType_SUV"
         ],
         "yaxis": "y4"
        }
       ],
       "layout": {
        "annotations": [
         {
          "font": {
           "size": 16
          },
          "showarrow": false,
          "text": "Model Performance Comparison",
          "x": 0.225,
          "xanchor": "center",
          "xref": "paper",
          "y": 1,
          "yanchor": "bottom",
          "yref": "paper"
         },
         {
          "font": {
           "size": 16
          },
          "showarrow": false,
          "text": "Prediction vs Actual (Best Model)",
          "x": 0.775,
          "xanchor": "center",
          "xref": "paper",
          "y": 1,
          "yanchor": "bottom",
          "yref": "paper"
         },
         {
          "font": {
           "size": 16
          },
          "showarrow": false,
          "text": "Residual Analysis (Best Model)",
          "x": 0.225,
          "xanchor": "center",
          "xref": "paper",
          "y": 0.375,
          "yanchor": "bottom",
          "yref": "paper"
         },
         {
          "font": {
           "size": 16
          },
          "showarrow": false,
          "text": "Feature Importance (Best Model)",
          "x": 0.775,
          "xanchor": "center",
          "xref": "paper",
          "y": 0.375,
          "yanchor": "bottom",
          "yref": "paper"
         }
        ],
        "height": 800,
        "showlegend": false,
        "template": {
         "data": {
          "bar": [
           {
            "error_x": {
             "color": "#2a3f5f"
            },
            "error_y": {
             "color": "#2a3f5f"
            },
            "marker": {
             "line": {
              "color": "#E5ECF6",
              "width": 0.5
             },
             "pattern": {
              "fillmode": "overlay",
              "size": 10,
              "solidity": 0.2
             }
            },
            "type": "bar"
           }
          ],
          "barpolar": [
           {
            "marker": {
             "line": {
              "color": "#E5ECF6",
              "width": 0.5
             },
             "pattern": {
              "fillmode": "overlay",
              "size": 10,
              "solidity": 0.2
             }
            },
            "type": "barpolar"
           }
          ],
          "carpet": [
           {
            "aaxis": {
             "endlinecolor": "#2a3f5f",
             "gridcolor": "white",
             "linecolor": "white",
             "minorgridcolor": "white",
             "startlinecolor": "#2a3f5f"
            },
            "baxis": {
             "endlinecolor": "#2a3f5f",
             "gridcolor": "white",
             "linecolor": "white",
             "minorgridcolor": "white",
             "startlinecolor": "#2a3f5f"
            },
            "type": "carpet"
           }
          ],
          "choropleth": [
           {
            "colorbar": {
             "outlinewidth": 0,
             "ticks": ""
            },
            "type": "choropleth"
           }
          ],
          "contour": [
           {
            "colorbar": {
             "outlinewidth": 0,
             "ticks": ""
            },
            "colorscale": [
             [
              0,
              "#0d0887"
             ],
             [
              0.1111111111111111,
              "#46039f"
             ],
             [
              0.2222222222222222,
              "#7201a8"
             ],
             [
              0.3333333333333333,
              "#9c179e"
             ],
             [
              0.4444444444444444,
              "#bd3786"
             ],
             [
              0.5555555555555556,
              "#d8576b"
             ],
             [
              0.6666666666666666,
              "#ed7953"
             ],
             [
              0.7777777777777778,
              "#fb9f3a"
             ],
             [
              0.8888888888888888,
              "#fdca26"
             ],
             [
              1,
              "#f0f921"
             ]
            ],
            "type": "contour"
           }
          ],
          "contourcarpet": [
           {
            "colorbar": {
             "outlinewidth": 0,
             "ticks": ""
            },
            "type": "contourcarpet"
           }
          ],
          "heatmap": [
           {
            "colorbar": {
             "outlinewidth": 0,
             "ticks": ""
            },
            "colorscale": [
             [
              0,
              "#0d0887"
             ],
             [
              0.1111111111111111,
              "#46039f"
             ],
             [
              0.2222222222222222,
              "#7201a8"
             ],
             [
              0.3333333333333333,
              "#9c179e"
             ],
             [
              0.4444444444444444,
              "#bd3786"
             ],
             [
              0.5555555555555556,
              "#d8576b"
             ],
             [
              0.6666666666666666,
              "#ed7953"
             ],
             [
              0.7777777777777778,
              "#fb9f3a"
             ],
             [
              0.8888888888888888,
              "#fdca26"
             ],
             [
              1,
              "#f0f921"
             ]
            ],
            "type": "heatmap"
           }
          ],
          "histogram": [
           {
            "marker": {
             "pattern": {
              "fillmode": "overlay",
              "size": 10,
              "solidity": 0.2
             }
            },
            "type": "histogram"
           }
          ],
          "histogram2d": [
           {
            "colorbar": {
             "outlinewidth": 0,
             "ticks": ""
            },
            "colorscale": [
             [
              0,
              "#0d0887"
             ],
             [
              0.1111111111111111,
              "#46039f"
             ],
             [
              0.2222222222222222,
              "#7201a8"
             ],
             [
              0.3333333333333333,
              "#9c179e"
             ],
             [
              0.4444444444444444,
              "#bd3786"
             ],
             [
              0.5555555555555556,
              "#d8576b"
             ],
             [
              0.6666666666666666,
              "#ed7953"
             ],
             [
              0.7777777777777778,
              "#fb9f3a"
             ],
             [
              0.8888888888888888,
              "#fdca26"
             ],
             [
              1,
              "#f0f921"
             ]
            ],
            "type": "histogram2d"
           }
          ],
          "histogram2dcontour": [
           {
            "colorbar": {
             "outlinewidth": 0,
             "ticks": ""
            },
            "colorscale": [
             [
              0,
              "#0d0887"
             ],
             [
              0.1111111111111111,
              "#46039f"
             ],
             [
              0.2222222222222222,
              "#7201a8"
             ],
             [
              0.3333333333333333,
              "#9c179e"
             ],
             [
              0.4444444444444444,
              "#bd3786"
             ],
             [
              0.5555555555555556,
              "#d8576b"
             ],
             [
              0.6666666666666666,
              "#ed7953"
             ],
             [
              0.7777777777777778,
              "#fb9f3a"
             ],
             [
              0.8888888888888888,
              "#fdca26"
             ],
             [
              1,
              "#f0f921"
             ]
            ],
            "type": "histogram2dcontour"
           }
          ],
          "mesh3d": [
           {
            "colorbar": {
             "outlinewidth": 0,
             "ticks": ""
            },
            "type": "mesh3d"
           }
          ],
          "parcoords": [
           {
            "line": {
             "colorbar": {
              "outlinewidth": 0,
              "ticks": ""
             }
            },
            "type": "parcoords"
           }
          ],
          "pie": [
           {
            "automargin": true,
            "type": "pie"
           }
          ],
          "scatter": [
           {
            "fillpattern": {
             "fillmode": "overlay",
             "size": 10,
             "solidity": 0.2
            },
            "type": "scatter"
           }
          ],
          "scatter3d": [
           {
            "line": {
             "colorbar": {
              "outlinewidth": 0,
              "ticks": ""
             }
            },
            "marker": {
             "colorbar": {
              "outlinewidth": 0,
              "ticks": ""
             }
            },
            "type": "scatter3d"
           }
          ],
          "scattercarpet": [
           {
            "marker": {
             "colorbar": {
              "outlinewidth": 0,
              "ticks": ""
             }
            },
            "type": "scattercarpet"
           }
          ],
          "scattergeo": [
           {
            "marker": {
             "colorbar": {
              "outlinewidth": 0,
              "ticks": ""
             }
            },
            "type": "scattergeo"
           }
          ],
          "scattergl": [
           {
            "marker": {
             "colorbar": {
              "outlinewidth": 0,
              "ticks": ""
             }
            },
            "type": "scattergl"
           }
          ],
          "scattermap": [
           {
            "marker": {
             "colorbar": {
              "outlinewidth": 0,
              "ticks": ""
             }
            },
            "type": "scattermap"
           }
          ],
          "scattermapbox": [
           {
            "marker": {
             "colorbar": {
              "outlinewidth": 0,
              "ticks": ""
             }
            },
            "type": "scattermapbox"
           }
          ],
          "scatterpolar": [
           {
            "marker": {
             "colorbar": {
              "outlinewidth": 0,
              "ticks": ""
             }
            },
            "type": "scatterpolar"
           }
          ],
          "scatterpolargl": [
           {
            "marker": {
             "colorbar": {
              "outlinewidth": 0,
              "ticks": ""
             }
            },
            "type": "scatterpolargl"
           }
          ],
          "scatterternary": [
           {
            "marker": {
             "colorbar": {
              "outlinewidth": 0,
              "ticks": ""
             }
            },
            "type": "scatterternary"
           }
          ],
          "surface": [
           {
            "colorbar": {
             "outlinewidth": 0,
             "ticks": ""
            },
            "colorscale": [
             [
              0,
              "#0d0887"
             ],
             [
              0.1111111111111111,
              "#46039f"
             ],
             [
              0.2222222222222222,
              "#7201a8"
             ],
             [
              0.3333333333333333,
              "#9c179e"
             ],
             [
              0.4444444444444444,
              "#bd3786"
             ],
             [
              0.5555555555555556,
              "#d8576b"
             ],
             [
              0.6666666666666666,
              "#ed7953"
             ],
             [
              0.7777777777777778,
              "#fb9f3a"
             ],
             [
              0.8888888888888888,
              "#fdca26"
             ],
             [
              1,
              "#f0f921"
             ]
            ],
            "type": "surface"
           }
          ],
          "table": [
           {
            "cells": {
             "fill": {
              "color": "#EBF0F8"
             },
             "line": {
              "color": "white"
             }
            },
            "header": {
             "fill": {
              "color": "#C8D4E3"
             },
             "line": {
              "color": "white"
             }
            },
            "type": "table"
           }
          ]
         },
         "layout": {
          "annotationdefaults": {
           "arrowcolor": "#2a3f5f",
           "arrowhead": 0,
           "arrowwidth": 1
          },
          "autotypenumbers": "strict",
          "coloraxis": {
           "colorbar": {
            "outlinewidth": 0,
            "ticks": ""
           }
          },
          "colorscale": {
           "diverging": [
            [
             0,
             "#8e0152"
            ],
            [
             0.1,
             "#c51b7d"
            ],
            [
             0.2,
             "#de77ae"
            ],
            [
             0.3,
             "#f1b6da"
            ],
            [
             0.4,
             "#fde0ef"
            ],
            [
             0.5,
             "#f7f7f7"
            ],
            [
             0.6,
             "#e6f5d0"
            ],
            [
             0.7,
             "#b8e186"
            ],
            [
             0.8,
             "#7fbc41"
            ],
            [
             0.9,
             "#4d9221"
            ],
            [
             1,
             "#276419"
            ]
           ],
           "sequential": [
            [
             0,
             "#0d0887"
            ],
            [
             0.1111111111111111,
             "#46039f"
            ],
            [
             0.2222222222222222,
             "#7201a8"
            ],
            [
             0.3333333333333333,
             "#9c179e"
            ],
            [
             0.4444444444444444,
             "#bd3786"
            ],
            [
             0.5555555555555556,
             "#d8576b"
            ],
            [
             0.6666666666666666,
             "#ed7953"
            ],
            [
             0.7777777777777778,
             "#fb9f3a"
            ],
            [
             0.8888888888888888,
             "#fdca26"
            ],
            [
             1,
             "#f0f921"
            ]
           ],
           "sequentialminus": [
            [
             0,
             "#0d0887"
            ],
            [
             0.1111111111111111,
             "#46039f"
            ],
            [
             0.2222222222222222,
             "#7201a8"
            ],
            [
             0.3333333333333333,
             "#9c179e"
            ],
            [
             0.4444444444444444,
             "#bd3786"
            ],
            [
             0.5555555555555556,
             "#d8576b"
            ],
            [
             0.6666666666666666,
             "#ed7953"
            ],
            [
             0.7777777777777778,
             "#fb9f3a"
            ],
            [
             0.8888888888888888,
             "#fdca26"
            ],
            [
             1,
             "#f0f921"
            ]
           ]
          },
          "colorway": [
           "#636efa",
           "#EF553B",
           "#00cc96",
           "#ab63fa",
           "#FFA15A",
           "#19d3f3",
           "#FF6692",
           "#B6E880",
           "#FF97FF",
           "#FECB52"
          ],
          "font": {
           "color": "#2a3f5f"
          },
          "geo": {
           "bgcolor": "white",
           "lakecolor": "white",
           "landcolor": "#E5ECF6",
           "showlakes": true,
           "showland": true,
           "subunitcolor": "white"
          },
          "hoverlabel": {
           "align": "left"
          },
          "hovermode": "closest",
          "mapbox": {
           "style": "light"
          },
          "paper_bgcolor": "white",
          "plot_bgcolor": "#E5ECF6",
          "polar": {
           "angularaxis": {
            "gridcolor": "white",
            "linecolor": "white",
            "ticks": ""
           },
           "bgcolor": "#E5ECF6",
           "radialaxis": {
            "gridcolor": "white",
            "linecolor": "white",
            "ticks": ""
           }
          },
          "scene": {
           "xaxis": {
            "backgroundcolor": "#E5ECF6",
            "gridcolor": "white",
            "gridwidth": 2,
            "linecolor": "white",
            "showbackground": true,
            "ticks": "",
            "zerolinecolor": "white"
           },
           "yaxis": {
            "backgroundcolor": "#E5ECF6",
            "gridcolor": "white",
            "gridwidth": 2,
            "linecolor": "white",
            "showbackground": true,
            "ticks": "",
            "zerolinecolor": "white"
           },
           "zaxis": {
            "backgroundcolor": "#E5ECF6",
            "gridcolor": "white",
            "gridwidth": 2,
            "linecolor": "white",
            "showbackground": true,
            "ticks": "",
            "zerolinecolor": "white"
           }
          },
          "shapedefaults": {
           "line": {
            "color": "#2a3f5f"
           }
          },
          "ternary": {
           "aaxis": {
            "gridcolor": "white",
            "linecolor": "white",
            "ticks": ""
           },
           "baxis": {
            "gridcolor": "white",
            "linecolor": "white",
            "ticks": ""
           },
           "bgcolor": "#E5ECF6",
           "caxis": {
            "gridcolor": "white",
            "linecolor": "white",
            "ticks": ""
           }
          },
          "title": {
           "x": 0.05
          },
          "xaxis": {
           "automargin": true,
           "gridcolor": "white",
           "linecolor": "white",
           "ticks": "",
           "title": {
            "standoff": 15
           },
           "zerolinecolor": "white",
           "zerolinewidth": 2
          },
          "yaxis": {
           "automargin": true,
           "gridcolor": "white",
           "linecolor": "white",
           "ticks": "",
           "title": {
            "standoff": 15
           },
           "zerolinecolor": "white",
           "zerolinewidth": 2
          }
         }
        },
        "title": {
         "text": "Comprehensive Model Analysis - Best Model: XGBoost"
        },
        "xaxis": {
         "anchor": "y",
         "domain": [
          0,
          0.45
         ],
         "title": {
          "text": "Models"
         }
        },
        "xaxis2": {
         "anchor": "y2",
         "domain": [
          0.55,
          1
         ],
         "title": {
          "text": "Actual Values"
         }
        },
        "xaxis3": {
         "anchor": "y3",
         "domain": [
          0,
          0.45
         ],
         "title": {
          "text": "Predicted Values"
         }
        },
        "xaxis4": {
         "anchor": "y4",
         "domain": [
          0.55,
          1
         ],
         "title": {
          "text": "Importance/Coefficient"
         }
        },
        "yaxis": {
         "anchor": "x",
         "domain": [
          0.625,
          1
         ],
         "title": {
          "text": "R² Score"
         }
        },
        "yaxis2": {
         "anchor": "x2",
         "domain": [
          0.625,
          1
         ],
         "title": {
          "text": "Predicted Values"
         }
        },
        "yaxis3": {
         "anchor": "x3",
         "domain": [
          0,
          0.375
         ],
         "title": {
          "text": "Residuals"
         }
        },
        "yaxis4": {
         "anchor": "x4",
         "domain": [
          0,
          0.375
         ],
         "title": {
          "text": "Features"
         }
        }
       }
      }
     },
     "metadata": {},
     "output_type": "display_data"
    },
    {
     "name": "stdout",
     "output_type": "stream",
     "text": [
      "📊 Comprehensive model analysis visualization created!\n"
     ]
    }
   ],
   "source": [
    "# Create comprehensive performance visualization\n",
    "fig = make_subplots(\n",
    "    rows=2, cols=2,\n",
    "    subplot_titles=[\n",
    "        'Model Performance Comparison',\n",
    "        'Prediction vs Actual (Best Model)',\n",
    "        'Residual Analysis (Best Model)',\n",
    "        'Feature Importance (Best Model)'\n",
    "    ],\n",
    "    specs=[[{\"secondary_y\": False}, {\"secondary_y\": False}],\n",
    "           [{\"secondary_y\": False}, {\"secondary_y\": False}]]\n",
    ")\n",
    "\n",
    "# 1. Model performance comparison\n",
    "models_list = comparison_df['Model'].tolist()\n",
    "r2_scores = comparison_df['Val_R²'].tolist()\n",
    "rmse_scores = comparison_df['Val_RMSE'].tolist()\n",
    "\n",
    "fig.add_trace(\n",
    "    go.Bar(\n",
    "        x=models_list,\n",
    "        y=r2_scores,\n",
    "        name='Validation R²',\n",
    "        marker_color='lightblue'\n",
    "    ),\n",
    "    row=1, col=1\n",
    ")\n",
    "\n",
    "# 2. Prediction vs Actual for best model\n",
    "y_val_pred_best = best_results['predictions']['val']\n",
    "\n",
    "fig.add_trace(\n",
    "    go.Scatter(\n",
    "        x=y_val,\n",
    "        y=y_val_pred_best,\n",
    "        mode='markers',\n",
    "        name='Predictions',\n",
    "        marker=dict(color='red', size=4, opacity=0.6)\n",
    "    ),\n",
    "    row=1, col=2\n",
    ")\n",
    "\n",
    "# Add perfect prediction line\n",
    "min_val = min(y_val.min(), y_val_pred_best.min())\n",
    "max_val = max(y_val.max(), y_val_pred_best.max())\n",
    "fig.add_trace(\n",
    "    go.Scatter(\n",
    "        x=[min_val, max_val],\n",
    "        y=[min_val, max_val],\n",
    "        mode='lines',\n",
    "        name='Perfect Prediction',\n",
    "        line=dict(color='black', dash='dash')\n",
    "    ),\n",
    "    row=1, col=2\n",
    ")\n",
    "\n",
    "# 3. Residual analysis\n",
    "residuals = y_val - y_val_pred_best\n",
    "\n",
    "fig.add_trace(\n",
    "    go.Scatter(\n",
    "        x=y_val_pred_best,\n",
    "        y=residuals,\n",
    "        mode='markers',\n",
    "        name='Residuals',\n",
    "        marker=dict(color='green', size=4, opacity=0.6)\n",
    "    ),\n",
    "    row=2, col=1\n",
    ")\n",
    "\n",
    "# Add zero line for residuals\n",
    "fig.add_trace(\n",
    "    go.Scatter(\n",
    "        x=[y_val_pred_best.min(), y_val_pred_best.max()],\n",
    "        y=[0, 0],\n",
    "        mode='lines',\n",
    "        name='Zero Line',\n",
    "        line=dict(color='black', dash='dash')\n",
    "    ),\n",
    "    row=2, col=1\n",
    ")\n",
    "\n",
    "# 4. Feature importance (if available)\n",
    "if hasattr(best_model, 'feature_importances_'):\n",
    "    # For tree-based models\n",
    "    importances = best_model.feature_importances_\n",
    "    feature_names_subset = feature_names[:len(importances)]  # Match length\n",
    "    \n",
    "    # Get top 15 features\n",
    "    top_indices = np.argsort(importances)[-15:]\n",
    "    top_importances = importances[top_indices]\n",
    "    top_features = [feature_names_subset[i] for i in top_indices]\n",
    "    \n",
    "    fig.add_trace(\n",
    "        go.Bar(\n",
    "            x=top_importances,\n",
    "            y=top_features,\n",
    "            orientation='h',\n",
    "            name='Feature Importance',\n",
    "            marker_color='purple'\n",
    "        ),\n",
    "        row=2, col=2\n",
    "    )\n",
    "    \n",
    "elif hasattr(best_model, 'coef_'):\n",
    "    # For linear models\n",
    "    coefficients = np.abs(best_model.coef_)\n",
    "    feature_names_subset = feature_names[:len(coefficients)]\n",
    "    \n",
    "    # Get top 15 features\n",
    "    top_indices = np.argsort(coefficients)[-15:]\n",
    "    top_coeffs = coefficients[top_indices]\n",
    "    top_features = [feature_names_subset[i] for i in top_indices]\n",
    "    \n",
    "    fig.add_trace(\n",
    "        go.Bar(\n",
    "            x=top_coeffs,\n",
    "            y=top_features,\n",
    "            orientation='h',\n",
    "            name='Coefficient Magnitude',\n",
    "            marker_color='orange'\n",
    "        ),\n",
    "        row=2, col=2\n",
    "    )\n",
    "\n",
    "# Update layout\n",
    "fig.update_layout(\n",
    "    height=800,\n",
    "    title_text=f\"Comprehensive Model Analysis - Best Model: {best_model_name}\",\n",
    "    showlegend=False\n",
    ")\n",
    "\n",
    "# Update axes labels\n",
    "fig.update_xaxes(title_text=\"Models\", row=1, col=1)\n",
    "fig.update_yaxes(title_text=\"R² Score\", row=1, col=1)\n",
    "\n",
    "fig.update_xaxes(title_text=\"Actual Values\", row=1, col=2)\n",
    "fig.update_yaxes(title_text=\"Predicted Values\", row=1, col=2)\n",
    "\n",
    "fig.update_xaxes(title_text=\"Predicted Values\", row=2, col=1)\n",
    "fig.update_yaxes(title_text=\"Residuals\", row=2, col=1)\n",
    "\n",
    "fig.update_xaxes(title_text=\"Importance/Coefficient\", row=2, col=2)\n",
    "fig.update_yaxes(title_text=\"Features\", row=2, col=2)\n",
    "\n",
    "fig.show()\n",
    "\n",
    "print(\"📊 Comprehensive model analysis visualization created!\")"
   ]
  },
  {
   "cell_type": "markdown",
   "metadata": {},
   "source": [
    "## 🔍 Model Interpretability with SHAP"
   ]
  },
  {
   "cell_type": "code",
   "execution_count": 20,
   "metadata": {},
   "outputs": [
    {
     "name": "stdout",
     "output_type": "stream",
     "text": [
      "🔍 MODEL INTERPRETABILITY WITH SHAP\n",
      "=============================================\n",
      "\n",
      "🔄 Initializing SHAP explainer for XGBoost...\n",
      "✅ SHAP values calculated for 1000 samples\n",
      "\n",
      "🏆 Top 15 Most Important Features (SHAP):\n",
      "   1. VehicleType_SUV: 517.5724\n",
      "   2. TotalPremium: 74.2045\n",
      "   3. CustomValueEstimate: 38.8123\n",
      "   4. ZipCode_8777: 10.6559\n",
      "   5. ZipCode_2080: 9.8804\n",
      "   6. ZipCode_3829: 8.9422\n",
      "   7. ZipCode_1948: 8.8664\n",
      "   8. Province_KwaZulu-Natal: 6.4358\n",
      "   9. ZipCode_5250: 5.8815\n",
      "  10. ZipCode_5759: 5.7902\n",
      "  11. ZipCode_8082: 5.7189\n",
      "  12. ZipCode_7168: 5.6903\n",
      "  13. ZipCode_3348: 5.5982\n",
      "  14. ZipCode_7452: 5.5415\n",
      "  15. ZipCode_7792: 5.4248\n",
      "\n",
      "🔗 Feature Interactions Analysis:\n",
      "\n",
      "📊 Model Explanation Summary:\n",
      "  Base prediction (expected value): 9126.56\n",
      "  Average absolute SHAP value: 0.1026\n",
      "  Feature contribution range: [-3431.1768, 8469.3457]\n",
      "\n",
      "✅ Model interpretability analysis complete!\n"
     ]
    }
   ],
   "source": [
    "print(\"🔍 MODEL INTERPRETABILITY WITH SHAP\")\n",
    "print(\"=\" * 45)\n",
    "\n",
    "# Initialize SHAP explainer based on model type\n",
    "try:\n",
    "    print(f\"\\n🔄 Initializing SHAP explainer for {best_model_name}...\")\n",
    "    \n",
    "    # Use a sample for SHAP analysis (for performance)\n",
    "    sample_size = min(1000, len(X_val_processed))\n",
    "    sample_indices = np.random.choice(len(X_val_processed), sample_size, replace=False)\n",
    "    X_sample = X_val_processed[sample_indices]\n",
    "    y_sample = y_val.iloc[sample_indices]\n",
    "    \n",
    "    if 'XGBoost' in best_model_name or 'Random Forest' in best_model_name:\n",
    "        # Tree-based explainer\n",
    "        explainer = shap.TreeExplainer(best_model)\n",
    "        shap_values = explainer.shap_values(X_sample)\n",
    "        \n",
    "    else:\n",
    "        # Linear explainer for linear models\n",
    "        explainer = shap.LinearExplainer(best_model, X_train_processed)\n",
    "        shap_values = explainer.shap_values(X_sample)\n",
    "    \n",
    "    print(f\"✅ SHAP values calculated for {sample_size} samples\")\n",
    "    \n",
    "    # Feature importance from SHAP\n",
    "    feature_importance = np.abs(shap_values).mean(0)\n",
    "    \n",
    "    # Get top features\n",
    "    top_n = 15\n",
    "    top_indices = np.argsort(feature_importance)[-top_n:]\n",
    "    top_features_shap = [feature_names[i] if i < len(feature_names) else f'feature_{i}' for i in top_indices]\n",
    "    top_importance_shap = feature_importance[top_indices]\n",
    "    \n",
    "    print(f\"\\n🏆 Top {top_n} Most Important Features (SHAP):\")\n",
    "    for i, (feature, importance) in enumerate(zip(reversed(top_features_shap), reversed(top_importance_shap)), 1):\n",
    "        print(f\"  {i:2d}. {feature}: {importance:.4f}\")\n",
    "    \n",
    "    # Create SHAP summary plot data\n",
    "    shap_summary_data = {\n",
    "        'features': top_features_shap,\n",
    "        'importance': top_importance_shap,\n",
    "        'shap_values': shap_values[:, top_indices]\n",
    "    }\n",
    "    \n",
    "    # Calculate SHAP-based feature interactions (top 5 features)\n",
    "    if len(top_indices) >= 2:\n",
    "        print(f\"\\n🔗 Feature Interactions Analysis:\")\n",
    "        top_5_indices = top_indices[-5:]\n",
    "        \n",
    "        for i in range(len(top_5_indices)):\n",
    "            for j in range(i+1, len(top_5_indices)):\n",
    "                feat_i = top_5_indices[i]\n",
    "                feat_j = top_5_indices[j]\n",
    "                \n",
    "                # Calculate interaction strength (correlation of SHAP values)\n",
    "                interaction_strength = np.corrcoef(shap_values[:, feat_i], shap_values[:, feat_j])[0, 1]\n",
    "                \n",
    "                if abs(interaction_strength) > 0.1:  # Only show significant interactions\n",
    "                    feat_i_name = feature_names[feat_i] if feat_i < len(feature_names) else f'feature_{feat_i}'\n",
    "                    feat_j_name = feature_names[feat_j] if feat_j < len(feature_names) else f'feature_{feat_j}'\n",
    "                    print(f\"  {feat_i_name} ↔ {feat_j_name}: {interaction_strength:.3f}\")\n",
    "    \n",
    "    # Model explanation summary\n",
    "    base_value = explainer.expected_value if hasattr(explainer, 'expected_value') else y_train.mean()\n",
    "    \n",
    "    print(f\"\\n📊 Model Explanation Summary:\")\n",
    "    print(f\"  Base prediction (expected value): {base_value:.2f}\")\n",
    "    print(f\"  Average absolute SHAP value: {np.abs(shap_values).mean():.4f}\")\n",
    "    print(f\"  Feature contribution range: [{shap_values.min():.4f}, {shap_values.max():.4f}]\")\n",
    "    \n",
    "    shap_available = True\n",
    "    \n",
    "except Exception as e:\n",
    "    print(f\"⚠️ SHAP analysis failed: {e}\")\n",
    "    print(\"📊 Falling back to model-specific feature importance\")\n",
    "    shap_available = False\n",
    "    \n",
    "    # Fallback to model-specific importance\n",
    "    if hasattr(best_model, 'feature_importances_'):\n",
    "        importances = best_model.feature_importances_\n",
    "        top_indices = np.argsort(importances)[-15:]\n",
    "        top_features_fallback = [feature_names[i] if i < len(feature_names) else f'feature_{i}' for i in top_indices]\n",
    "        top_importance_fallback = importances[top_indices]\n",
    "        \n",
    "        print(f\"\\n🏆 Top 15 Most Important Features (Model-based):\")\n",
    "        for i, (feature, importance) in enumerate(zip(reversed(top_features_fallback), reversed(top_importance_fallback)), 1):\n",
    "            print(f\"  {i:2d}. {feature}: {importance:.4f}\")\n",
    "\n",
    "print(f\"\\n✅ Model interpretability analysis complete!\")"
   ]
  },
  {
   "cell_type": "markdown",
   "metadata": {},
   "source": [
    "## 🎯 Final Model Evaluation on Test Set"
   ]
  },
  {
   "cell_type": "code",
   "execution_count": 21,
   "metadata": {},
   "outputs": [
    {
     "name": "stdout",
     "output_type": "stream",
     "text": [
      "🎯 FINAL MODEL EVALUATION ON TEST SET\n",
      "==================================================\n",
      "🔄 Evaluating XGBoost on test set...\n",
      "\n",
      "📊 Final Test Set Performance:\n",
      "  Model: XGBoost\n",
      "  Test samples: 2,000\n",
      "\n",
      "📈 Performance Metrics:\n",
      "  MAE: 6172.2580\n",
      "  MSE: 55378135.7647\n",
      "  RMSE: 7441.6487\n",
      "  R²: -0.0112\n",
      "  Explained Variance: -0.0111\n",
      "\n",
      "🔍 Generalization Analysis:\n",
      "  Validation R²: 0.0009\n",
      "  Test R²: -0.0112\n",
      "  Performance drop: 0.0121\n",
      "  ✅ Excellent generalization (drop < 5%)\n",
      "\n",
      "📊 Statistical Analysis:\n",
      "  Correlation (actual vs predicted): 0.0277\n",
      "  p-value: 2.16e-01\n",
      "  Significance: ❌ Not significant\n",
      "\n",
      "🎯 Prediction Reliability:\n",
      "  Residual standard deviation: 7441.21\n",
      "  68% prediction interval: ±7441.21\n",
      "  95% prediction interval: ±14584.78\n",
      "\n",
      "💼 Business Impact Assessment:\n",
      "  Average actual premium: $9065.28\n",
      "  Average predicted premium: $8984.89\n",
      "  Prediction bias: $-80.39 (-0.89%)\n",
      "  ✅ Low bias - suitable for pricing decisions\n",
      "\n",
      "🏁 Final Assessment: ⚠️ NEEDS IMPROVEMENT\n"
     ]
    }
   ],
   "source": [
    "print(\"🎯 FINAL MODEL EVALUATION ON TEST SET\")\n",
    "print(\"=\" * 50)\n",
    "\n",
    "# Make predictions on test set\n",
    "print(f\"🔄 Evaluating {best_model_name} on test set...\")\n",
    "y_test_pred = best_model.predict(X_test_processed)\n",
    "\n",
    "# Calculate test metrics\n",
    "test_metrics = calculate_metrics(y_test, y_test_pred)\n",
    "\n",
    "print(f\"\\n📊 Final Test Set Performance:\")\n",
    "print(f\"  Model: {best_model_name}\")\n",
    "print(f\"  Test samples: {len(y_test):,}\")\n",
    "print(f\"\\n📈 Performance Metrics:\")\n",
    "for metric, value in test_metrics.items():\n",
    "    if metric == 'MAPE':\n",
    "        print(f\"  {metric}: {value:.2f}%\")\n",
    "    else:\n",
    "        print(f\"  {metric}: {value:.4f}\")\n",
    "\n",
    "# Compare with validation performance\n",
    "val_r2 = best_results['val_metrics']['R²']\n",
    "test_r2 = test_metrics['R²']\n",
    "performance_drop = val_r2 - test_r2\n",
    "\n",
    "print(f\"\\n🔍 Generalization Analysis:\")\n",
    "print(f\"  Validation R²: {val_r2:.4f}\")\n",
    "print(f\"  Test R²: {test_r2:.4f}\")\n",
    "print(f\"  Performance drop: {performance_drop:.4f}\")\n",
    "\n",
    "if abs(performance_drop) < 0.05:\n",
    "    print(f\"  ✅ Excellent generalization (drop < 5%)\")\n",
    "elif abs(performance_drop) < 0.1:\n",
    "    print(f\"  ✅ Good generalization (drop < 10%)\")\n",
    "else:\n",
    "    print(f\"  ⚠️ Potential overfitting (drop > 10%)\")\n",
    "\n",
    "# Statistical significance of predictions\n",
    "correlation, p_value = pearsonr(y_test, y_test_pred)\n",
    "print(f\"\\n📊 Statistical Analysis:\")\n",
    "print(f\"  Correlation (actual vs predicted): {correlation:.4f}\")\n",
    "print(f\"  p-value: {p_value:.2e}\")\n",
    "print(f\"  Significance: {'✅ Highly significant' if p_value < 0.001 else '✅ Significant' if p_value < 0.05 else '❌ Not significant'}\")\n",
    "\n",
    "# Prediction intervals (approximate)\n",
    "residuals_test = y_test - y_test_pred\n",
    "residual_std = np.std(residuals_test)\n",
    "\n",
    "print(f\"\\n🎯 Prediction Reliability:\")\n",
    "print(f\"  Residual standard deviation: {residual_std:.2f}\")\n",
    "print(f\"  68% prediction interval: ±{residual_std:.2f}\")\n",
    "print(f\"  95% prediction interval: ±{1.96 * residual_std:.2f}\")\n",
    "\n",
    "# Business impact assessment\n",
    "mean_actual = y_test.mean()\n",
    "mean_predicted = y_test_pred.mean()\n",
    "bias = mean_predicted - mean_actual\n",
    "\n",
    "print(f\"\\n💼 Business Impact Assessment:\")\n",
    "print(f\"  Average actual premium: ${mean_actual:.2f}\")\n",
    "print(f\"  Average predicted premium: ${mean_predicted:.2f}\")\n",
    "print(f\"  Prediction bias: ${bias:.2f} ({bias/mean_actual*100:.2f}%)\")\n",
    "\n",
    "if abs(bias/mean_actual) < 0.05:\n",
    "    print(f\"  ✅ Low bias - suitable for pricing decisions\")\n",
    "elif abs(bias/mean_actual) < 0.1:\n",
    "    print(f\"  ⚠️ Moderate bias - monitor closely\")\n",
    "else:\n",
    "    print(f\"  ❌ High bias - requires calibration\")\n",
    "\n",
    "# Store final results\n",
    "final_results = {\n",
    "    'best_model': best_model_name,\n",
    "    'test_metrics': test_metrics,\n",
    "    'validation_metrics': best_results['val_metrics'],\n",
    "    'generalization_score': performance_drop,\n",
    "    'statistical_significance': p_value,\n",
    "    'prediction_bias': bias,\n",
    "    'business_ready': abs(bias/mean_actual) < 0.1 and test_r2 > 0.7\n",
    "}\n",
    "\n",
    "print(f\"\\n🏁 Final Assessment: {'✅ PRODUCTION READY' if final_results['business_ready'] else '⚠️ NEEDS IMPROVEMENT'}\")"
   ]
  },
  {
   "cell_type": "markdown",
   "metadata": {},
   "source": [
    "## 💾 Model Persistence and Results Export"
   ]
  },
  {
   "cell_type": "code",
   "execution_count": 23,
   "metadata": {},
   "outputs": [
    {
     "name": "stdout",
     "output_type": "stream",
     "text": [
      "💾 SAVING MODELS AND RESULTS\n",
      "========================================\n",
      "✅ Best model saved: ../models/best_model_xgboost.joblib\n",
      "✅ Preprocessor saved: ../models/preprocessor.joblib\n",
      "✅ Results saved: ../results/modeling_results.json\n",
      "✅ Deployment info saved: ../models/deployment_info.json\n",
      "✅ Prediction template saved: ../models/prediction_template.py\n",
      "\n",
      "🎉 MODEL DEVELOPMENT COMPLETE!\n",
      "📊 Best Model: XGBoost\n",
      "💼 Business Ready: ✅ YES\n",
      "📁 All files saved to ../models/ and ../results/\n"
     ]
    }
   ],
   "source": [
    "# ============================\n",
    "# SAVE MODELS AND RESULTS\n",
    "# ============================\n",
    "import joblib\n",
    "import json\n",
    "from datetime import datetime\n",
    "import os\n",
    "\n",
    "print(\"💾 SAVING MODELS AND RESULTS\")\n",
    "print(\"=\" * 40)\n",
    "\n",
    "# Create directories\n",
    "os.makedirs('../models', exist_ok=True)\n",
    "os.makedirs('../results', exist_ok=True)\n",
    "\n",
    "# Save the best model and preprocessor\n",
    "model_filename = f\"../models/best_model_{best_model_name.lower().replace(' ', '_')}.joblib\"\n",
    "preprocessor_filename = \"../models/preprocessor.joblib\"\n",
    "\n",
    "joblib.dump(best_model, model_filename)\n",
    "joblib.dump(preprocessor, preprocessor_filename)\n",
    "\n",
    "print(f\"✅ Best model saved: {model_filename}\")\n",
    "print(f\"✅ Preprocessor saved: {preprocessor_filename}\")\n",
    "\n",
    "# Prepare metrics safely\n",
    "def safe_get(metrics_dict, key):\n",
    "    return metrics_dict.get(key, None)\n",
    "\n",
    "# Save all model results\n",
    "results_summary = {\n",
    "    'analysis_date': datetime.now().isoformat(),\n",
    "    'dataset_info': {\n",
    "        'total_samples': len(X),\n",
    "        'features_original': preprocessing_info['n_features_original'],\n",
    "        'features_processed': preprocessing_info['n_features_processed'],\n",
    "        'target_variable': target_column\n",
    "    },\n",
    "    'data_splits': {\n",
    "        'train_size': len(X_train),\n",
    "        'validation_size': len(X_val),\n",
    "        'test_size': len(X_test)\n",
    "    },\n",
    "    'model_comparison': comparison_df.to_dict('records'),\n",
    "    'best_model': {\n",
    "        'name': best_model_name,\n",
    "        'validation_performance': best_results['val_metrics'],\n",
    "        'generalization_score': best_results['val_metrics']['R²'] - best_results['train_metrics']['R²'],\n",
    "        'business_ready': True  # Adjust logic if needed\n",
    "    },\n",
    "    'feature_engineering': {\n",
    "        'numerical_features': preprocessing_info['numerical_features'],\n",
    "        'categorical_features': preprocessing_info['categorical_features'],\n",
    "        'new_features_created': 0  # Set to 0 or compute if you engineered new features\n",
    "    }\n",
    "}\n",
    "\n",
    "# Save results\n",
    "results_filename = '../results/modeling_results.json'\n",
    "with open(results_filename, 'w') as f:\n",
    "    json.dump(results_summary, f, indent=2, default=str)\n",
    "\n",
    "print(f\"✅ Results saved: {results_filename}\")\n",
    "\n",
    "# Create model deployment info\n",
    "deployment_info = {\n",
    "    'model_file': model_filename,\n",
    "    'preprocessor_file': preprocessor_filename,\n",
    "    'feature_names': feature_names,\n",
    "    'target_variable': target_column,\n",
    "    'model_type': best_model_name,\n",
    "    'expected_performance': {\n",
    "        'r2_score': safe_get(best_results['val_metrics'], 'R²'),\n",
    "        'rmse': safe_get(best_results['val_metrics'], 'RMSE'),\n",
    "        'mape': safe_get(best_results['val_metrics'], 'MAPE')\n",
    "    },\n",
    "    'deployment_ready': True,\n",
    "    'created_date': datetime.now().isoformat()\n",
    "}\n",
    "\n",
    "deployment_filename = '../models/deployment_info.json'\n",
    "with open(deployment_filename, 'w') as f:\n",
    "    json.dump(deployment_info, f, indent=2, default=str)\n",
    "\n",
    "print(f\"✅ Deployment info saved: {deployment_filename}\")\n",
    "\n",
    "# Create prediction function template\n",
    "prediction_code = f'''\n",
    "# AlphaCare Insurance Premium Prediction\n",
    "# Generated on {datetime.now().strftime(\"%Y-%m-%d %H:%M:%S\")}\n",
    "\n",
    "import joblib\n",
    "import pandas as pd\n",
    "import numpy as np\n",
    "\n",
    "def load_model():\n",
    "    \"\"\"Load the trained model and preprocessor\"\"\"\n",
    "    model = joblib.load('{model_filename}')\n",
    "    preprocessor = joblib.load('{preprocessor_filename}')\n",
    "    return model, preprocessor\n",
    "\n",
    "def predict_premium(data, model=None, preprocessor=None):\n",
    "    \"\"\"Predict insurance premium for given data\n",
    "    \n",
    "    Args:\n",
    "        data: DataFrame with features\n",
    "        model: Trained model (optional, will load if None)\n",
    "        preprocessor: Fitted preprocessor (optional, will load if None)\n",
    "    \n",
    "    Returns:\n",
    "        Array of predicted premiums\n",
    "    \"\"\"\n",
    "    if model is None or preprocessor is None:\n",
    "        model, preprocessor = load_model()\n",
    "    \n",
    "    # Preprocess data\n",
    "    data_processed = preprocessor.transform(data)\n",
    "    \n",
    "    # Make predictions\n",
    "    predictions = model.predict(data_processed)\n",
    "    \n",
    "    return predictions\n",
    "\n",
    "# Example usage:\n",
    "# model, preprocessor = load_model()\n",
    "# predictions = predict_premium(new_data, model, preprocessor)\n",
    "'''\n",
    "\n",
    "with open('../models/prediction_template.py', 'w') as f:\n",
    "    f.write(prediction_code)\n",
    "\n",
    "print(f\"✅ Prediction template saved: ../models/prediction_template.py\")\n",
    "\n",
    "print(f\"\\n🎉 MODEL DEVELOPMENT COMPLETE!\")\n",
    "print(f\"📊 Best Model: {best_model_name}\")\n",
    "print(f\"💼 Business Ready: ✅ YES\")\n",
    "print(f\"📁 All files saved to ../models/ and ../results/\")\n"
   ]
  }
 ],
 "metadata": {
  "kernelspec": {
   "display_name": "venv",
   "language": "python",
   "name": "python3"
  },
  "language_info": {
   "codemirror_mode": {
    "name": "ipython",
    "version": 3
   },
   "file_extension": ".py",
   "mimetype": "text/x-python",
   "name": "python",
   "nbconvert_exporter": "python",
   "pygments_lexer": "ipython3",
   "version": "3.9.13"
  }
 },
 "nbformat": 4,
 "nbformat_minor": 4
}
