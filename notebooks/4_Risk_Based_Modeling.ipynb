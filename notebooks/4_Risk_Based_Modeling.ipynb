{
 "cells": [
  {
   "cell_type": "markdown",
   "id": "232d3e9f",
   "metadata": {},
   "source": [
    "# 📦 Cell 1: Import Libraries\n",
    "In this cell, we import all the necessary Python libraries for Task 4. These include:\n",
    "\n",
    "- **Data Handling & Visualization**: `pandas`, `numpy`, `matplotlib`, `seaborn`\n",
    "- **Machine Learning**: `sklearn` modules for regression, classification, preprocessing, and evaluation metrics\n",
    "- **Advanced Models**: `xgboost` for gradient boosting\n",
    "- **Model Interpretation**: `shap` for understanding feature contributions\n",
    "- **Model Persistence**: `joblib` to save and load trained models\n",
    "\n",
    "These libraries form the backbone for data preparation, modeling, evaluation, and interpretability in this task.\n"
   ]
  },
  {
   "cell_type": "code",
   "execution_count": 1,
   "id": "3ac00a6b",
   "metadata": {},
   "outputs": [
    {
     "ename": "KeyboardInterrupt",
     "evalue": "",
     "output_type": "error",
     "traceback": [
      "\u001b[1;31m---------------------------------------------------------------------------\u001b[0m",
      "\u001b[1;31mKeyboardInterrupt\u001b[0m                         Traceback (most recent call last)",
      "Cell \u001b[1;32mIn[1], line 5\u001b[0m\n\u001b[0;32m      3\u001b[0m \u001b[38;5;28;01mimport\u001b[39;00m\u001b[38;5;250m \u001b[39m\u001b[38;5;21;01mnumpy\u001b[39;00m\u001b[38;5;250m \u001b[39m\u001b[38;5;28;01mas\u001b[39;00m\u001b[38;5;250m \u001b[39m\u001b[38;5;21;01mnp\u001b[39;00m\n\u001b[0;32m      4\u001b[0m \u001b[38;5;28;01mimport\u001b[39;00m\u001b[38;5;250m \u001b[39m\u001b[38;5;21;01mmatplotlib\u001b[39;00m\u001b[38;5;21;01m.\u001b[39;00m\u001b[38;5;21;01mpyplot\u001b[39;00m\u001b[38;5;250m \u001b[39m\u001b[38;5;28;01mas\u001b[39;00m\u001b[38;5;250m \u001b[39m\u001b[38;5;21;01mplt\u001b[39;00m\n\u001b[1;32m----> 5\u001b[0m \u001b[38;5;28;01mimport\u001b[39;00m\u001b[38;5;250m \u001b[39m\u001b[38;5;21;01mseaborn\u001b[39;00m\u001b[38;5;250m \u001b[39m\u001b[38;5;28;01mas\u001b[39;00m\u001b[38;5;250m \u001b[39m\u001b[38;5;21;01msns\u001b[39;00m\n\u001b[0;32m      7\u001b[0m \u001b[38;5;28;01mfrom\u001b[39;00m\u001b[38;5;250m \u001b[39m\u001b[38;5;21;01msklearn\u001b[39;00m\u001b[38;5;21;01m.\u001b[39;00m\u001b[38;5;21;01mmodel_selection\u001b[39;00m\u001b[38;5;250m \u001b[39m\u001b[38;5;28;01mimport\u001b[39;00m train_test_split\n\u001b[0;32m      8\u001b[0m \u001b[38;5;28;01mfrom\u001b[39;00m\u001b[38;5;250m \u001b[39m\u001b[38;5;21;01msklearn\u001b[39;00m\u001b[38;5;21;01m.\u001b[39;00m\u001b[38;5;21;01mpreprocessing\u001b[39;00m\u001b[38;5;250m \u001b[39m\u001b[38;5;28;01mimport\u001b[39;00m StandardScaler, OneHotEncoder\n",
      "File \u001b[1;32mc:\\Users\\HP\\Desktop\\End-to-End-Insurance-Risk-Analytics\\venv\\lib\\site-packages\\seaborn\\__init__.py:5\u001b[0m\n\u001b[0;32m      3\u001b[0m \u001b[38;5;28;01mfrom\u001b[39;00m\u001b[38;5;250m \u001b[39m\u001b[38;5;21;01m.\u001b[39;00m\u001b[38;5;21;01mutils\u001b[39;00m\u001b[38;5;250m \u001b[39m\u001b[38;5;28;01mimport\u001b[39;00m \u001b[38;5;241m*\u001b[39m  \u001b[38;5;66;03m# noqa: F401,F403\u001b[39;00m\n\u001b[0;32m      4\u001b[0m \u001b[38;5;28;01mfrom\u001b[39;00m\u001b[38;5;250m \u001b[39m\u001b[38;5;21;01m.\u001b[39;00m\u001b[38;5;21;01mpalettes\u001b[39;00m\u001b[38;5;250m \u001b[39m\u001b[38;5;28;01mimport\u001b[39;00m \u001b[38;5;241m*\u001b[39m  \u001b[38;5;66;03m# noqa: F401,F403\u001b[39;00m\n\u001b[1;32m----> 5\u001b[0m \u001b[38;5;28;01mfrom\u001b[39;00m\u001b[38;5;250m \u001b[39m\u001b[38;5;21;01m.\u001b[39;00m\u001b[38;5;21;01mrelational\u001b[39;00m\u001b[38;5;250m \u001b[39m\u001b[38;5;28;01mimport\u001b[39;00m \u001b[38;5;241m*\u001b[39m  \u001b[38;5;66;03m# noqa: F401,F403\u001b[39;00m\n\u001b[0;32m      6\u001b[0m \u001b[38;5;28;01mfrom\u001b[39;00m\u001b[38;5;250m \u001b[39m\u001b[38;5;21;01m.\u001b[39;00m\u001b[38;5;21;01mregression\u001b[39;00m\u001b[38;5;250m \u001b[39m\u001b[38;5;28;01mimport\u001b[39;00m \u001b[38;5;241m*\u001b[39m  \u001b[38;5;66;03m# noqa: F401,F403\u001b[39;00m\n\u001b[0;32m      7\u001b[0m \u001b[38;5;28;01mfrom\u001b[39;00m\u001b[38;5;250m \u001b[39m\u001b[38;5;21;01m.\u001b[39;00m\u001b[38;5;21;01mcategorical\u001b[39;00m\u001b[38;5;250m \u001b[39m\u001b[38;5;28;01mimport\u001b[39;00m \u001b[38;5;241m*\u001b[39m  \u001b[38;5;66;03m# noqa: F401,F403\u001b[39;00m\n",
      "File \u001b[1;32mc:\\Users\\HP\\Desktop\\End-to-End-Insurance-Risk-Analytics\\venv\\lib\\site-packages\\seaborn\\relational.py:21\u001b[0m\n\u001b[0;32m     13\u001b[0m \u001b[38;5;28;01mfrom\u001b[39;00m\u001b[38;5;250m \u001b[39m\u001b[38;5;21;01m.\u001b[39;00m\u001b[38;5;21;01mutils\u001b[39;00m\u001b[38;5;250m \u001b[39m\u001b[38;5;28;01mimport\u001b[39;00m (\n\u001b[0;32m     14\u001b[0m     adjust_legend_subtitles,\n\u001b[0;32m     15\u001b[0m     _default_color,\n\u001b[1;32m   (...)\u001b[0m\n\u001b[0;32m     18\u001b[0m     _scatter_legend_artist,\n\u001b[0;32m     19\u001b[0m )\n\u001b[0;32m     20\u001b[0m \u001b[38;5;28;01mfrom\u001b[39;00m\u001b[38;5;250m \u001b[39m\u001b[38;5;21;01m.\u001b[39;00m\u001b[38;5;21;01m_compat\u001b[39;00m\u001b[38;5;250m \u001b[39m\u001b[38;5;28;01mimport\u001b[39;00m groupby_apply_include_groups\n\u001b[1;32m---> 21\u001b[0m \u001b[38;5;28;01mfrom\u001b[39;00m\u001b[38;5;250m \u001b[39m\u001b[38;5;21;01m.\u001b[39;00m\u001b[38;5;21;01m_statistics\u001b[39;00m\u001b[38;5;250m \u001b[39m\u001b[38;5;28;01mimport\u001b[39;00m EstimateAggregator, WeightedAggregator\n\u001b[0;32m     22\u001b[0m \u001b[38;5;28;01mfrom\u001b[39;00m\u001b[38;5;250m \u001b[39m\u001b[38;5;21;01m.\u001b[39;00m\u001b[38;5;21;01maxisgrid\u001b[39;00m\u001b[38;5;250m \u001b[39m\u001b[38;5;28;01mimport\u001b[39;00m FacetGrid, _facet_docs\n\u001b[0;32m     23\u001b[0m \u001b[38;5;28;01mfrom\u001b[39;00m\u001b[38;5;250m \u001b[39m\u001b[38;5;21;01m.\u001b[39;00m\u001b[38;5;21;01m_docstrings\u001b[39;00m\u001b[38;5;250m \u001b[39m\u001b[38;5;28;01mimport\u001b[39;00m DocstringComponents, _core_docs\n",
      "File \u001b[1;32mc:\\Users\\HP\\Desktop\\End-to-End-Insurance-Risk-Analytics\\venv\\lib\\site-packages\\seaborn\\_statistics.py:32\u001b[0m\n\u001b[0;32m     30\u001b[0m \u001b[38;5;28;01mimport\u001b[39;00m\u001b[38;5;250m \u001b[39m\u001b[38;5;21;01mpandas\u001b[39;00m\u001b[38;5;250m \u001b[39m\u001b[38;5;28;01mas\u001b[39;00m\u001b[38;5;250m \u001b[39m\u001b[38;5;21;01mpd\u001b[39;00m\n\u001b[0;32m     31\u001b[0m \u001b[38;5;28;01mtry\u001b[39;00m:\n\u001b[1;32m---> 32\u001b[0m     \u001b[38;5;28;01mfrom\u001b[39;00m\u001b[38;5;250m \u001b[39m\u001b[38;5;21;01mscipy\u001b[39;00m\u001b[38;5;21;01m.\u001b[39;00m\u001b[38;5;21;01mstats\u001b[39;00m\u001b[38;5;250m \u001b[39m\u001b[38;5;28;01mimport\u001b[39;00m gaussian_kde\n\u001b[0;32m     33\u001b[0m     _no_scipy \u001b[38;5;241m=\u001b[39m \u001b[38;5;28;01mFalse\u001b[39;00m\n\u001b[0;32m     34\u001b[0m \u001b[38;5;28;01mexcept\u001b[39;00m \u001b[38;5;167;01mImportError\u001b[39;00m:\n",
      "File \u001b[1;32mc:\\Users\\HP\\Desktop\\End-to-End-Insurance-Risk-Analytics\\venv\\lib\\site-packages\\scipy\\stats\\__init__.py:606\u001b[0m\n\u001b[0;32m      1\u001b[0m \u001b[38;5;124;03m\"\"\"\u001b[39;00m\n\u001b[0;32m      2\u001b[0m \u001b[38;5;124;03m.. _statsrefmanual:\u001b[39;00m\n\u001b[0;32m      3\u001b[0m \n\u001b[1;32m   (...)\u001b[0m\n\u001b[0;32m    601\u001b[0m \n\u001b[0;32m    602\u001b[0m \u001b[38;5;124;03m\"\"\"\u001b[39;00m  \u001b[38;5;66;03m# noqa: E501\u001b[39;00m\n\u001b[0;32m    604\u001b[0m \u001b[38;5;28;01mfrom\u001b[39;00m\u001b[38;5;250m \u001b[39m\u001b[38;5;21;01m.\u001b[39;00m\u001b[38;5;21;01m_warnings_errors\u001b[39;00m\u001b[38;5;250m \u001b[39m\u001b[38;5;28;01mimport\u001b[39;00m (ConstantInputWarning, NearConstantInputWarning,\n\u001b[0;32m    605\u001b[0m                                DegenerateDataWarning, FitError)\n\u001b[1;32m--> 606\u001b[0m \u001b[38;5;28;01mfrom\u001b[39;00m\u001b[38;5;250m \u001b[39m\u001b[38;5;21;01m.\u001b[39;00m\u001b[38;5;21;01m_stats_py\u001b[39;00m\u001b[38;5;250m \u001b[39m\u001b[38;5;28;01mimport\u001b[39;00m \u001b[38;5;241m*\u001b[39m\n\u001b[0;32m    607\u001b[0m \u001b[38;5;28;01mfrom\u001b[39;00m\u001b[38;5;250m \u001b[39m\u001b[38;5;21;01m.\u001b[39;00m\u001b[38;5;21;01m_variation\u001b[39;00m\u001b[38;5;250m \u001b[39m\u001b[38;5;28;01mimport\u001b[39;00m variation\n\u001b[0;32m    608\u001b[0m \u001b[38;5;28;01mfrom\u001b[39;00m\u001b[38;5;250m \u001b[39m\u001b[38;5;21;01m.\u001b[39;00m\u001b[38;5;21;01mdistributions\u001b[39;00m\u001b[38;5;250m \u001b[39m\u001b[38;5;28;01mimport\u001b[39;00m \u001b[38;5;241m*\u001b[39m\n",
      "File \u001b[1;32mc:\\Users\\HP\\Desktop\\End-to-End-Insurance-Risk-Analytics\\venv\\lib\\site-packages\\scipy\\stats\\_stats_py.py:42\u001b[0m\n\u001b[0;32m     39\u001b[0m \u001b[38;5;28;01mfrom\u001b[39;00m\u001b[38;5;250m \u001b[39m\u001b[38;5;21;01mscipy\u001b[39;00m\u001b[38;5;21;01m.\u001b[39;00m\u001b[38;5;21;01mspatial\u001b[39;00m\u001b[38;5;250m \u001b[39m\u001b[38;5;28;01mimport\u001b[39;00m distance_matrix\n\u001b[0;32m     41\u001b[0m \u001b[38;5;28;01mfrom\u001b[39;00m\u001b[38;5;250m \u001b[39m\u001b[38;5;21;01mscipy\u001b[39;00m\u001b[38;5;21;01m.\u001b[39;00m\u001b[38;5;21;01mndimage\u001b[39;00m\u001b[38;5;250m \u001b[39m\u001b[38;5;28;01mimport\u001b[39;00m _measurements\n\u001b[1;32m---> 42\u001b[0m \u001b[38;5;28;01mfrom\u001b[39;00m\u001b[38;5;250m \u001b[39m\u001b[38;5;21;01mscipy\u001b[39;00m\u001b[38;5;21;01m.\u001b[39;00m\u001b[38;5;21;01moptimize\u001b[39;00m\u001b[38;5;250m \u001b[39m\u001b[38;5;28;01mimport\u001b[39;00m milp, LinearConstraint\n\u001b[0;32m     43\u001b[0m \u001b[38;5;28;01mfrom\u001b[39;00m\u001b[38;5;250m \u001b[39m\u001b[38;5;21;01mscipy\u001b[39;00m\u001b[38;5;21;01m.\u001b[39;00m\u001b[38;5;21;01m_lib\u001b[39;00m\u001b[38;5;21;01m.\u001b[39;00m\u001b[38;5;21;01m_util\u001b[39;00m\u001b[38;5;250m \u001b[39m\u001b[38;5;28;01mimport\u001b[39;00m (check_random_state, MapWrapper, _get_nan,\n\u001b[0;32m     44\u001b[0m                               rng_integers, _rename_parameter, _contains_nan,\n\u001b[0;32m     45\u001b[0m                               AxisError)\n\u001b[0;32m     47\u001b[0m \u001b[38;5;28;01mimport\u001b[39;00m\u001b[38;5;250m \u001b[39m\u001b[38;5;21;01mscipy\u001b[39;00m\u001b[38;5;21;01m.\u001b[39;00m\u001b[38;5;21;01mspecial\u001b[39;00m\u001b[38;5;250m \u001b[39m\u001b[38;5;28;01mas\u001b[39;00m\u001b[38;5;250m \u001b[39m\u001b[38;5;21;01mspecial\u001b[39;00m\n",
      "File \u001b[1;32mc:\\Users\\HP\\Desktop\\End-to-End-Insurance-Risk-Analytics\\venv\\lib\\site-packages\\scipy\\optimize\\__init__.py:426\u001b[0m\n\u001b[0;32m    424\u001b[0m \u001b[38;5;28;01mfrom\u001b[39;00m\u001b[38;5;250m \u001b[39m\u001b[38;5;21;01m.\u001b[39;00m\u001b[38;5;21;01m_nnls\u001b[39;00m\u001b[38;5;250m \u001b[39m\u001b[38;5;28;01mimport\u001b[39;00m nnls\n\u001b[0;32m    425\u001b[0m \u001b[38;5;28;01mfrom\u001b[39;00m\u001b[38;5;250m \u001b[39m\u001b[38;5;21;01m.\u001b[39;00m\u001b[38;5;21;01m_basinhopping\u001b[39;00m\u001b[38;5;250m \u001b[39m\u001b[38;5;28;01mimport\u001b[39;00m basinhopping\n\u001b[1;32m--> 426\u001b[0m \u001b[38;5;28;01mfrom\u001b[39;00m\u001b[38;5;250m \u001b[39m\u001b[38;5;21;01m.\u001b[39;00m\u001b[38;5;21;01m_linprog\u001b[39;00m\u001b[38;5;250m \u001b[39m\u001b[38;5;28;01mimport\u001b[39;00m linprog, linprog_verbose_callback\n\u001b[0;32m    427\u001b[0m \u001b[38;5;28;01mfrom\u001b[39;00m\u001b[38;5;250m \u001b[39m\u001b[38;5;21;01m.\u001b[39;00m\u001b[38;5;21;01m_lsap\u001b[39;00m\u001b[38;5;250m \u001b[39m\u001b[38;5;28;01mimport\u001b[39;00m linear_sum_assignment\n\u001b[0;32m    428\u001b[0m \u001b[38;5;28;01mfrom\u001b[39;00m\u001b[38;5;250m \u001b[39m\u001b[38;5;21;01m.\u001b[39;00m\u001b[38;5;21;01m_differentialevolution\u001b[39;00m\u001b[38;5;250m \u001b[39m\u001b[38;5;28;01mimport\u001b[39;00m differential_evolution\n",
      "File \u001b[1;32mc:\\Users\\HP\\Desktop\\End-to-End-Insurance-Risk-Analytics\\venv\\lib\\site-packages\\scipy\\optimize\\_linprog.py:22\u001b[0m\n\u001b[0;32m     20\u001b[0m \u001b[38;5;28;01mfrom\u001b[39;00m\u001b[38;5;250m \u001b[39m\u001b[38;5;21;01mwarnings\u001b[39;00m\u001b[38;5;250m \u001b[39m\u001b[38;5;28;01mimport\u001b[39;00m warn\n\u001b[0;32m     21\u001b[0m \u001b[38;5;28;01mfrom\u001b[39;00m\u001b[38;5;250m \u001b[39m\u001b[38;5;21;01m.\u001b[39;00m\u001b[38;5;21;01m_linprog_highs\u001b[39;00m\u001b[38;5;250m \u001b[39m\u001b[38;5;28;01mimport\u001b[39;00m _linprog_highs\n\u001b[1;32m---> 22\u001b[0m \u001b[38;5;28;01mfrom\u001b[39;00m\u001b[38;5;250m \u001b[39m\u001b[38;5;21;01m.\u001b[39;00m\u001b[38;5;21;01m_linprog_ip\u001b[39;00m\u001b[38;5;250m \u001b[39m\u001b[38;5;28;01mimport\u001b[39;00m _linprog_ip\n\u001b[0;32m     23\u001b[0m \u001b[38;5;28;01mfrom\u001b[39;00m\u001b[38;5;250m \u001b[39m\u001b[38;5;21;01m.\u001b[39;00m\u001b[38;5;21;01m_linprog_simplex\u001b[39;00m\u001b[38;5;250m \u001b[39m\u001b[38;5;28;01mimport\u001b[39;00m _linprog_simplex\n\u001b[0;32m     24\u001b[0m \u001b[38;5;28;01mfrom\u001b[39;00m\u001b[38;5;250m \u001b[39m\u001b[38;5;21;01m.\u001b[39;00m\u001b[38;5;21;01m_linprog_rs\u001b[39;00m\u001b[38;5;250m \u001b[39m\u001b[38;5;28;01mimport\u001b[39;00m _linprog_rs\n",
      "File \u001b[1;32mc:\\Users\\HP\\Desktop\\End-to-End-Insurance-Risk-Analytics\\venv\\lib\\site-packages\\scipy\\optimize\\_linprog_ip.py:27\u001b[0m\n\u001b[0;32m     25\u001b[0m \u001b[38;5;28;01mfrom\u001b[39;00m\u001b[38;5;250m \u001b[39m\u001b[38;5;21;01mscipy\u001b[39;00m\u001b[38;5;21;01m.\u001b[39;00m\u001b[38;5;21;01mlinalg\u001b[39;00m\u001b[38;5;250m \u001b[39m\u001b[38;5;28;01mimport\u001b[39;00m LinAlgError\n\u001b[0;32m     26\u001b[0m \u001b[38;5;28;01mfrom\u001b[39;00m\u001b[38;5;250m \u001b[39m\u001b[38;5;21;01m.\u001b[39;00m\u001b[38;5;21;01m_optimize\u001b[39;00m\u001b[38;5;250m \u001b[39m\u001b[38;5;28;01mimport\u001b[39;00m OptimizeWarning, OptimizeResult, _check_unknown_options\n\u001b[1;32m---> 27\u001b[0m \u001b[38;5;28;01mfrom\u001b[39;00m\u001b[38;5;250m \u001b[39m\u001b[38;5;21;01m.\u001b[39;00m\u001b[38;5;21;01m_linprog_util\u001b[39;00m\u001b[38;5;250m \u001b[39m\u001b[38;5;28;01mimport\u001b[39;00m _postsolve\n\u001b[0;32m     28\u001b[0m has_umfpack \u001b[38;5;241m=\u001b[39m \u001b[38;5;28;01mTrue\u001b[39;00m\n\u001b[0;32m     29\u001b[0m has_cholmod \u001b[38;5;241m=\u001b[39m \u001b[38;5;28;01mTrue\u001b[39;00m\n",
      "File \u001b[1;32m<frozen importlib._bootstrap>:1007\u001b[0m, in \u001b[0;36m_find_and_load\u001b[1;34m(name, import_)\u001b[0m\n",
      "File \u001b[1;32m<frozen importlib._bootstrap>:986\u001b[0m, in \u001b[0;36m_find_and_load_unlocked\u001b[1;34m(name, import_)\u001b[0m\n",
      "File \u001b[1;32m<frozen importlib._bootstrap>:680\u001b[0m, in \u001b[0;36m_load_unlocked\u001b[1;34m(spec)\u001b[0m\n",
      "File \u001b[1;32m<frozen importlib._bootstrap_external>:846\u001b[0m, in \u001b[0;36mexec_module\u001b[1;34m(self, module)\u001b[0m\n",
      "File \u001b[1;32m<frozen importlib._bootstrap_external>:941\u001b[0m, in \u001b[0;36mget_code\u001b[1;34m(self, fullname)\u001b[0m\n",
      "File \u001b[1;32m<frozen importlib._bootstrap_external>:1039\u001b[0m, in \u001b[0;36mget_data\u001b[1;34m(self, path)\u001b[0m\n",
      "\u001b[1;31mKeyboardInterrupt\u001b[0m: "
     ]
    }
   ],
   "source": [
    "# 📦 Import necessary libraries\n",
    "import pandas as pd\n",
    "import numpy as np\n",
    "import matplotlib.pyplot as plt\n",
    "import seaborn as sns\n",
    "\n",
    "from sklearn.model_selection import train_test_split\n",
    "from sklearn.preprocessing import StandardScaler, OneHotEncoder\n",
    "from sklearn.compose import ColumnTransformer\n",
    "from sklearn.pipeline import Pipeline\n",
    "from sklearn.metrics import mean_squared_error, r2_score, accuracy_score, roc_auc_score, classification_report\n",
    "\n",
    "from sklearn.linear_model import LinearRegression, LogisticRegression\n",
    "from sklearn.ensemble import RandomForestRegressor, RandomForestClassifier\n",
    "import xgboost as xgb\n",
    "\n",
    "import shap\n",
    "import joblib\n"
   ]
  },
  {
   "cell_type": "markdown",
   "id": "62bf1ccf",
   "metadata": {},
   "source": [
    "# 📥 Cell 2: Load Dataset\n",
    "In this cell, we load the cleaned and preprocessed dataset generated in Task 3. \n",
    "\n",
    "- The dataset contains engineered features suitable for both claim severity prediction and premium prediction.\n",
    "- We will inspect its shape and a preview of the first few rows to understand the structure and types of features.\n",
    "- This step ensures that the data is correctly loaded and ready for modeling.\n"
   ]
  },
  {
   "cell_type": "code",
   "execution_count": null,
   "id": "3a67f43d",
   "metadata": {},
   "outputs": [
    {
     "name": "stdout",
     "output_type": "stream",
     "text": [
      "📊 Dataset shape: (10000, 10)\n"
     ]
    },
    {
     "data": {
      "text/html": [
       "<div>\n",
       "<style scoped>\n",
       "    .dataframe tbody tr th:only-of-type {\n",
       "        vertical-align: middle;\n",
       "    }\n",
       "\n",
       "    .dataframe tbody tr th {\n",
       "        vertical-align: top;\n",
       "    }\n",
       "\n",
       "    .dataframe thead th {\n",
       "        text-align: right;\n",
       "    }\n",
       "</style>\n",
       "<table border=\"1\" class=\"dataframe\">\n",
       "  <thead>\n",
       "    <tr style=\"text-align: right;\">\n",
       "      <th></th>\n",
       "      <th>PolicyID</th>\n",
       "      <th>Province</th>\n",
       "      <th>ZipCode</th>\n",
       "      <th>Gender</th>\n",
       "      <th>VehicleType</th>\n",
       "      <th>VehicleIntroDate</th>\n",
       "      <th>CustomValueEstimate</th>\n",
       "      <th>TotalPremium</th>\n",
       "      <th>TotalClaims</th>\n",
       "      <th>TransactionMonth</th>\n",
       "    </tr>\n",
       "  </thead>\n",
       "  <tbody>\n",
       "    <tr>\n",
       "      <th>0</th>\n",
       "      <td>POL_000000</td>\n",
       "      <td>KwaZulu-Natal</td>\n",
       "      <td>4122</td>\n",
       "      <td>Female</td>\n",
       "      <td>SUV</td>\n",
       "      <td>2000-01-01 00:00:00.000000000</td>\n",
       "      <td>248845.496671</td>\n",
       "      <td>16076.841887</td>\n",
       "      <td>17211.422546</td>\n",
       "      <td>2014-02-01 00:00:00.000000000</td>\n",
       "    </tr>\n",
       "    <tr>\n",
       "      <th>1</th>\n",
       "      <td>POL_000001</td>\n",
       "      <td>Eastern Cape</td>\n",
       "      <td>9167</td>\n",
       "      <td>Male</td>\n",
       "      <td>Hatchback</td>\n",
       "      <td>2000-01-01 18:24:35.427542754</td>\n",
       "      <td>210532.784502</td>\n",
       "      <td>19823.189567</td>\n",
       "      <td>2983.597837</td>\n",
       "      <td>2014-02-01 01:22:57.137713771</td>\n",
       "    </tr>\n",
       "    <tr>\n",
       "      <th>2</th>\n",
       "      <td>POL_000002</td>\n",
       "      <td>Gauteng</td>\n",
       "      <td>6190</td>\n",
       "      <td>Female</td>\n",
       "      <td>Sedan</td>\n",
       "      <td>2000-01-02 12:49:10.855085508</td>\n",
       "      <td>169778.611602</td>\n",
       "      <td>15129.383166</td>\n",
       "      <td>4945.843204</td>\n",
       "      <td>2014-02-01 02:45:54.275427542</td>\n",
       "    </tr>\n",
       "    <tr>\n",
       "      <th>3</th>\n",
       "      <td>POL_000003</td>\n",
       "      <td>KwaZulu-Natal</td>\n",
       "      <td>5575</td>\n",
       "      <td>Male</td>\n",
       "      <td>Hatchback</td>\n",
       "      <td>2000-01-03 07:13:46.282628262</td>\n",
       "      <td>173050.650581</td>\n",
       "      <td>22189.464905</td>\n",
       "      <td>0.000000</td>\n",
       "      <td>2014-02-01 04:08:51.413141314</td>\n",
       "    </tr>\n",
       "    <tr>\n",
       "      <th>4</th>\n",
       "      <td>POL_000004</td>\n",
       "      <td>KwaZulu-Natal</td>\n",
       "      <td>8727</td>\n",
       "      <td>Male</td>\n",
       "      <td>Hatchback</td>\n",
       "      <td>2000-01-04 01:38:21.710171017</td>\n",
       "      <td>162682.605330</td>\n",
       "      <td>13500.239349</td>\n",
       "      <td>7382.804354</td>\n",
       "      <td>2014-02-01 05:31:48.550855085</td>\n",
       "    </tr>\n",
       "  </tbody>\n",
       "</table>\n",
       "</div>"
      ],
      "text/plain": [
       "     PolicyID       Province  ZipCode  Gender VehicleType  \\\n",
       "0  POL_000000  KwaZulu-Natal     4122  Female         SUV   \n",
       "1  POL_000001   Eastern Cape     9167    Male   Hatchback   \n",
       "2  POL_000002        Gauteng     6190  Female       Sedan   \n",
       "3  POL_000003  KwaZulu-Natal     5575    Male   Hatchback   \n",
       "4  POL_000004  KwaZulu-Natal     8727    Male   Hatchback   \n",
       "\n",
       "                VehicleIntroDate  CustomValueEstimate  TotalPremium  \\\n",
       "0  2000-01-01 00:00:00.000000000        248845.496671  16076.841887   \n",
       "1  2000-01-01 18:24:35.427542754        210532.784502  19823.189567   \n",
       "2  2000-01-02 12:49:10.855085508        169778.611602  15129.383166   \n",
       "3  2000-01-03 07:13:46.282628262        173050.650581  22189.464905   \n",
       "4  2000-01-04 01:38:21.710171017        162682.605330  13500.239349   \n",
       "\n",
       "    TotalClaims               TransactionMonth  \n",
       "0  17211.422546  2014-02-01 00:00:00.000000000  \n",
       "1   2983.597837  2014-02-01 01:22:57.137713771  \n",
       "2   4945.843204  2014-02-01 02:45:54.275427542  \n",
       "3      0.000000  2014-02-01 04:08:51.413141314  \n",
       "4   7382.804354  2014-02-01 05:31:48.550855085  "
      ]
     },
     "execution_count": 2,
     "metadata": {},
     "output_type": "execute_result"
    }
   ],
   "source": [
    "# 📥 Load cleaned dataset from Task 3\n",
    "data = pd.read_csv('../data/MachineLearningRating_v3.csv')\n",
    "\n",
    "print(\"📊 Dataset shape:\", data.shape)\n",
    "data.head()\n"
   ]
  },
  {
   "cell_type": "markdown",
   "id": "c5b45e4c",
   "metadata": {},
   "source": [
    "# 🎯 Cell 3: Prepare Claim Severity Data\n",
    "- For predicting **TotalClaims** (Claim Severity), we only consider policies that have reported claims (`TotalClaims > 0`).\n",
    "- This ensures that the model focuses on estimating claim amounts, not predicting whether a claim occurs.\n",
    "- `X_claims` contains the features, excluding the target.\n",
    "- `y_claims` contains the target variable `TotalClaims`.\n"
   ]
  },
  {
   "cell_type": "code",
   "execution_count": null,
   "id": "fdaba6ba",
   "metadata": {},
   "outputs": [
    {
     "name": "stdout",
     "output_type": "stream",
     "text": [
      "📊 Claims subset shape: (8415, 9)\n"
     ]
    },
    {
     "data": {
      "text/html": [
       "<div>\n",
       "<style scoped>\n",
       "    .dataframe tbody tr th:only-of-type {\n",
       "        vertical-align: middle;\n",
       "    }\n",
       "\n",
       "    .dataframe tbody tr th {\n",
       "        vertical-align: top;\n",
       "    }\n",
       "\n",
       "    .dataframe thead th {\n",
       "        text-align: right;\n",
       "    }\n",
       "</style>\n",
       "<table border=\"1\" class=\"dataframe\">\n",
       "  <thead>\n",
       "    <tr style=\"text-align: right;\">\n",
       "      <th></th>\n",
       "      <th>PolicyID</th>\n",
       "      <th>Province</th>\n",
       "      <th>ZipCode</th>\n",
       "      <th>Gender</th>\n",
       "      <th>VehicleType</th>\n",
       "      <th>VehicleIntroDate</th>\n",
       "      <th>CustomValueEstimate</th>\n",
       "      <th>TotalPremium</th>\n",
       "      <th>TransactionMonth</th>\n",
       "    </tr>\n",
       "  </thead>\n",
       "  <tbody>\n",
       "    <tr>\n",
       "      <th>0</th>\n",
       "      <td>POL_000000</td>\n",
       "      <td>KwaZulu-Natal</td>\n",
       "      <td>4122</td>\n",
       "      <td>Female</td>\n",
       "      <td>SUV</td>\n",
       "      <td>2000-01-01 00:00:00.000000000</td>\n",
       "      <td>248845.496671</td>\n",
       "      <td>16076.841887</td>\n",
       "      <td>2014-02-01 00:00:00.000000000</td>\n",
       "    </tr>\n",
       "    <tr>\n",
       "      <th>1</th>\n",
       "      <td>POL_000001</td>\n",
       "      <td>Eastern Cape</td>\n",
       "      <td>9167</td>\n",
       "      <td>Male</td>\n",
       "      <td>Hatchback</td>\n",
       "      <td>2000-01-01 18:24:35.427542754</td>\n",
       "      <td>210532.784502</td>\n",
       "      <td>19823.189567</td>\n",
       "      <td>2014-02-01 01:22:57.137713771</td>\n",
       "    </tr>\n",
       "    <tr>\n",
       "      <th>2</th>\n",
       "      <td>POL_000002</td>\n",
       "      <td>Gauteng</td>\n",
       "      <td>6190</td>\n",
       "      <td>Female</td>\n",
       "      <td>Sedan</td>\n",
       "      <td>2000-01-02 12:49:10.855085508</td>\n",
       "      <td>169778.611602</td>\n",
       "      <td>15129.383166</td>\n",
       "      <td>2014-02-01 02:45:54.275427542</td>\n",
       "    </tr>\n",
       "    <tr>\n",
       "      <th>4</th>\n",
       "      <td>POL_000004</td>\n",
       "      <td>KwaZulu-Natal</td>\n",
       "      <td>8727</td>\n",
       "      <td>Male</td>\n",
       "      <td>Hatchback</td>\n",
       "      <td>2000-01-04 01:38:21.710171017</td>\n",
       "      <td>162682.605330</td>\n",
       "      <td>13500.239349</td>\n",
       "      <td>2014-02-01 05:31:48.550855085</td>\n",
       "    </tr>\n",
       "    <tr>\n",
       "      <th>5</th>\n",
       "      <td>POL_000005</td>\n",
       "      <td>Eastern Cape</td>\n",
       "      <td>2797</td>\n",
       "      <td>Male</td>\n",
       "      <td>Truck</td>\n",
       "      <td>2000-01-04 20:02:57.137713771</td>\n",
       "      <td>241486.694049</td>\n",
       "      <td>11442.042080</td>\n",
       "      <td>2014-02-01 06:54:45.688568856</td>\n",
       "    </tr>\n",
       "  </tbody>\n",
       "</table>\n",
       "</div>"
      ],
      "text/plain": [
       "     PolicyID       Province  ZipCode  Gender VehicleType  \\\n",
       "0  POL_000000  KwaZulu-Natal     4122  Female         SUV   \n",
       "1  POL_000001   Eastern Cape     9167    Male   Hatchback   \n",
       "2  POL_000002        Gauteng     6190  Female       Sedan   \n",
       "4  POL_000004  KwaZulu-Natal     8727    Male   Hatchback   \n",
       "5  POL_000005   Eastern Cape     2797    Male       Truck   \n",
       "\n",
       "                VehicleIntroDate  CustomValueEstimate  TotalPremium  \\\n",
       "0  2000-01-01 00:00:00.000000000        248845.496671  16076.841887   \n",
       "1  2000-01-01 18:24:35.427542754        210532.784502  19823.189567   \n",
       "2  2000-01-02 12:49:10.855085508        169778.611602  15129.383166   \n",
       "4  2000-01-04 01:38:21.710171017        162682.605330  13500.239349   \n",
       "5  2000-01-04 20:02:57.137713771        241486.694049  11442.042080   \n",
       "\n",
       "                TransactionMonth  \n",
       "0  2014-02-01 00:00:00.000000000  \n",
       "1  2014-02-01 01:22:57.137713771  \n",
       "2  2014-02-01 02:45:54.275427542  \n",
       "4  2014-02-01 05:31:48.550855085  \n",
       "5  2014-02-01 06:54:45.688568856  "
      ]
     },
     "execution_count": 5,
     "metadata": {},
     "output_type": "execute_result"
    }
   ],
   "source": [
    "# 🎯 Select only policies with claims for severity prediction\n",
    "claims_data = data[data['TotalClaims'] > 0].copy()\n",
    "\n",
    "# Drop only columns that exist to avoid KeyError\n",
    "cols_to_drop = ['TotalClaims']\n",
    "cols_to_drop = [col for col in cols_to_drop if col in claims_data.columns]\n",
    "\n",
    "# Features and target\n",
    "X_claims = claims_data.drop(columns=cols_to_drop)\n",
    "y_claims = claims_data['TotalClaims']\n",
    "\n",
    "print(\"📊 Claims subset shape:\", X_claims.shape)\n",
    "X_claims.head()\n"
   ]
  },
  {
   "cell_type": "markdown",
   "id": "afc1742f",
   "metadata": {},
   "source": [
    "# 🎯 Cell 4: Prepare Premium Prediction Data\n",
    "- For **Premium Optimization**, the target variable is `TotalPremium`.\n",
    "- `X_premium` contains all features excluding `TotalPremium`.\n",
    "- `y_premium` contains the premium values.\n",
    "- This dataset will be used to model a dynamic, risk-based premium prediction system.\n"
   ]
  },
  {
   "cell_type": "code",
   "execution_count": null,
   "id": "26bdf27c",
   "metadata": {},
   "outputs": [
    {
     "name": "stdout",
     "output_type": "stream",
     "text": [
      "📊 Premium prediction dataset shape: (10000, 9)\n"
     ]
    }
   ],
   "source": [
    "# Premium Optimization\n",
    "X_premium = data.drop(columns=['TotalPremium'])\n",
    "y_premium = data['TotalPremium']\n",
    "\n",
    "print(\"📊 Premium prediction dataset shape:\", X_premium.shape)\n"
   ]
  },
  {
   "cell_type": "markdown",
   "id": "146c4ce8",
   "metadata": {},
   "source": [
    "# 🔢 Cell 5: Identify Feature Types\n",
    "- We separate features into **numerical** and **categorical** types.\n",
    "- Numerical features: continuous or discrete numbers suitable for scaling.\n",
    "- Categorical features: strings or objects that need encoding.\n",
    "- This step is crucial for preprocessing pipelines before modeling.\n"
   ]
  },
  {
   "cell_type": "code",
   "execution_count": null,
   "id": "8a99621b",
   "metadata": {},
   "outputs": [
    {
     "name": "stdout",
     "output_type": "stream",
     "text": [
      "🔢 Numerical features: ['ZipCode', 'CustomValueEstimate', 'TotalPremium']\n",
      "📝 Categorical features: ['PolicyID', 'Province', 'Gender', 'VehicleType', 'VehicleIntroDate', 'TransactionMonth']\n"
     ]
    }
   ],
   "source": [
    "# Identify feature types\n",
    "numerical_features = X_claims.select_dtypes(include=['int64','float64']).columns.tolist()\n",
    "categorical_features = X_claims.select_dtypes(include=['object']).columns.tolist()\n",
    "\n",
    "print(\"🔢 Numerical features:\", numerical_features)\n",
    "print(\"📝 Categorical features:\", categorical_features)\n"
   ]
  },
  {
   "cell_type": "markdown",
   "id": "1a6a5616",
   "metadata": {},
   "source": [
    "# 🎯 Cell 6: Train-Test Split for Claim Severity Model\n",
    "- Split the dataset into training and test sets.\n",
    "- Use 80% of the data for training and 20% for testing.\n",
    "- This ensures the model is evaluated on unseen data for proper generalization assessment.\n"
   ]
  },
  {
   "cell_type": "code",
   "execution_count": null,
   "id": "ee0535e3",
   "metadata": {},
   "outputs": [
    {
     "name": "stdout",
     "output_type": "stream",
     "text": [
      "📊 Training set: (6732, 9)\n",
      "📊 Test set: (1683, 9)\n"
     ]
    }
   ],
   "source": [
    "from sklearn.model_selection import train_test_split\n",
    "\n",
    "X_train_claims, X_test_claims, y_train_claims, y_test_claims = train_test_split(\n",
    "    X_claims, y_claims, test_size=0.2, random_state=42\n",
    ")\n",
    "\n",
    "print(\"📊 Training set:\", X_train_claims.shape)\n",
    "print(\"📊 Test set:\", X_test_claims.shape)\n"
   ]
  },
  {
   "cell_type": "markdown",
   "id": "bf063dee",
   "metadata": {},
   "source": [
    "# 🎯 Cell 7: Preprocessing & Feature Encoding\n",
    "- Categorical features are one-hot encoded.\n",
    "- Numerical features are scaled using StandardScaler.\n",
    "- Preprocessing is applied to both training and test sets.\n",
    "- This ensures that all models receive properly formatted input.\n"
   ]
  },
  {
   "cell_type": "code",
   "execution_count": null,
   "id": "897e5240",
   "metadata": {},
   "outputs": [
    {
     "name": "stdout",
     "output_type": "stream",
     "text": [
      "✅ Preprocessing complete. Processed feature dimensions: 20209\n"
     ]
    }
   ],
   "source": [
    "from sklearn.compose import ColumnTransformer\n",
    "from sklearn.preprocessing import StandardScaler, OneHotEncoder\n",
    "\n",
    "# Identify categorical and numerical features\n",
    "categorical_features = X_train_claims.select_dtypes(include=['object', 'category']).columns.tolist()\n",
    "numerical_features = X_train_claims.select_dtypes(include=['int64', 'float64']).columns.tolist()\n",
    "\n",
    "# Preprocessing pipeline\n",
    "preprocessor_claims = ColumnTransformer(\n",
    "    transformers=[\n",
    "        ('num', StandardScaler(), numerical_features),\n",
    "        ('cat', OneHotEncoder(handle_unknown='ignore'), categorical_features)\n",
    "    ]\n",
    ")\n",
    "\n",
    "# Fit & transform training data\n",
    "X_train_claims_processed = preprocessor_claims.fit_transform(X_train_claims)\n",
    "X_test_claims_processed = preprocessor_claims.transform(X_test_claims)\n",
    "\n",
    "print(\"✅ Preprocessing complete. Processed feature dimensions:\", X_train_claims_processed.shape[1])\n"
   ]
  },
  {
   "cell_type": "markdown",
   "id": "f00c72df",
   "metadata": {},
   "source": [
    "# 🎯 Cell 8: Build Regression Models for Claim Severity\n",
    "- We implement three models to predict claim amounts:\n",
    "    1. Linear Regression\n",
    "    2. Random Forest Regressor\n",
    "    3. XGBoost Regressor\n",
    "- Each model is trained on the processed training data.\n",
    "- This allows comparison of model performance to select the best one.\n"
   ]
  },
  {
   "cell_type": "code",
   "execution_count": null,
   "id": "686df80b",
   "metadata": {},
   "outputs": [
    {
     "name": "stdout",
     "output_type": "stream",
     "text": [
      "✅ LinearRegression trained successfully.\n",
      "✅ RandomForest trained successfully.\n",
      "✅ XGBoost trained successfully.\n"
     ]
    }
   ],
   "source": [
    "from sklearn.linear_model import LinearRegression\n",
    "from sklearn.ensemble import RandomForestRegressor\n",
    "from xgboost import XGBRegressor\n",
    "\n",
    "# Initialize models\n",
    "models_claims = {\n",
    "    'LinearRegression': LinearRegression(),\n",
    "    'RandomForest': RandomForestRegressor(n_estimators=100, random_state=42),\n",
    "    'XGBoost': XGBRegressor(n_estimators=100, random_state=42, objective='reg:squarederror')\n",
    "}\n",
    "\n",
    "# Train models\n",
    "trained_models_claims = {}\n",
    "for name, model in models_claims.items():\n",
    "    model.fit(X_train_claims_processed, y_train_claims)\n",
    "    trained_models_claims[name] = model\n",
    "    print(f\"✅ {name} trained successfully.\")\n"
   ]
  },
  {
   "cell_type": "markdown",
   "id": "03767304",
   "metadata": {},
   "source": [
    "# 🎯 Cell 9: Evaluate Claim Severity Models\n",
    "- Evaluate models on the test set using:\n",
    "    - Root Mean Squared Error (RMSE)\n",
    "    - R-squared (R²)\n",
    "- This gives a clear picture of how accurately each model predicts claim amounts.\n"
   ]
  },
  {
   "cell_type": "code",
   "execution_count": null,
   "id": "d308d3a1",
   "metadata": {},
   "outputs": [
    {
     "name": "stdout",
     "output_type": "stream",
     "text": [
      "LinearRegression -> RMSE: 6716.93, R²: 0.0213\n",
      "RandomForest -> RMSE: 6988.94, R²: -0.0596\n",
      "XGBoost -> RMSE: 6763.29, R²: 0.0077\n"
     ]
    },
    {
     "data": {
      "text/plain": [
       "{'LinearRegression': {'RMSE': np.float64(6716.928629863075),\n",
       "  'R2': 0.021251271101157765},\n",
       " 'RandomForest': {'RMSE': np.float64(6988.93738147411),\n",
       "  'R2': -0.05962462442999272},\n",
       " 'XGBoost': {'RMSE': np.float64(6763.291740513394),\n",
       "  'R2': 0.007693156454230521}}"
      ]
     },
     "execution_count": 11,
     "metadata": {},
     "output_type": "execute_result"
    }
   ],
   "source": [
    "from sklearn.metrics import mean_squared_error, r2_score\n",
    "import numpy as np\n",
    "\n",
    "# Evaluate each model\n",
    "evaluation_results_claims = {}\n",
    "for name, model in trained_models_claims.items():\n",
    "    y_pred = model.predict(X_test_claims_processed)\n",
    "    rmse = np.sqrt(mean_squared_error(y_test_claims, y_pred))\n",
    "    r2 = r2_score(y_test_claims, y_pred)\n",
    "    evaluation_results_claims[name] = {'RMSE': rmse, 'R2': r2}\n",
    "    print(f\"{name} -> RMSE: {rmse:.2f}, R²: {r2:.4f}\")\n",
    "\n",
    "evaluation_results_claims\n"
   ]
  },
  {
   "cell_type": "markdown",
   "id": "44b4a900",
   "metadata": {},
   "source": [
    "# 🎯 Cell 10: Feature Importance & Interpretability\n",
    "- For the best-performing model, we use **SHAP** to explain feature contributions.\n",
    "- SHAP values quantify the impact of each feature on model predictions.\n",
    "- Understanding top features helps refine business-driven risk-based pricing.\n"
   ]
  },
  {
   "cell_type": "code",
   "execution_count": null,
   "id": "8b30ad8a",
   "metadata": {},
   "outputs": [
    {
     "data": {
      "image/png": "[encoded data removed]",
      "text/plain": [
       "<Figure size 800x550 with 2 Axes>"
      ]
     },
     "metadata": {},
     "output_type": "display_data"
    }
   ],
   "source": [
    "import shap\n",
    "import pandas as pd\n",
    "\n",
    "# Convert processed test data back to DataFrame with column names from preprocessor\n",
    "# Extract one-hot encoded feature names\n",
    "cat_features_encoded = preprocessor_claims.named_transformers_['cat'].get_feature_names_out(categorical_features)\n",
    "all_feature_names = np.concatenate([numerical_features, cat_features_encoded])\n",
    "\n",
    "X_test_claims_processed_df = pd.DataFrame(X_test_claims_processed.toarray() if hasattr(X_test_claims_processed, \"toarray\") else X_test_claims_processed,\n",
    "                                        columns=all_feature_names)\n",
    "\n",
    "# Select best model (lowest RMSE)\n",
    "best_model_name_claims = min(evaluation_results_claims, key=lambda x: evaluation_results_claims[x]['RMSE'])\n",
    "best_model_claims = trained_models_claims[best_model_name_claims]\n",
    "\n",
    "# SHAP Explainer\n",
    "explainer = shap.Explainer(best_model_claims, X_train_claims_processed)\n",
    "shap_values = explainer(X_test_claims_processed)\n",
    "\n",
    "# Summary plot for top 10 features\n",
    "shap.summary_plot(shap_values, features=X_test_claims_processed_df, max_display=10)\n"
   ]
  },
  {
   "cell_type": "markdown",
   "id": "353ef972",
   "metadata": {},
   "source": [
    "# 🎯 Cell 11: Predict Probability of Claim Occurrence\n",
    "- Build a **binary classification model** to predict if a policy will have a claim.\n",
    "- Features: all available features except `TotalClaims`.\n",
    "- Target: `ClaimOccurred` (1 if TotalClaims > 0, else 0)\n",
    "- This model helps in calculating **risk-based premium**:\n",
    "  Premium = Probability of Claim * Predicted Claim Severity + Expense + Profit Margin\n"
   ]
  },
  {
   "cell_type": "code",
   "execution_count": null,
   "id": "2226a325",
   "metadata": {},
   "outputs": [
    {
     "name": "stdout",
     "output_type": "stream",
     "text": [
      "Accuracy: 0.8310\n",
      "Precision: 0.8310\n",
      "Recall: 1.0000\n",
      "F1-Score: 0.9077\n"
     ]
    }
   ],
   "source": [
    "from sklearn.ensemble import RandomForestClassifier\n",
    "from sklearn.metrics import accuracy_score, precision_score, recall_score, f1_score\n",
    "\n",
    "# Create target for classification\n",
    "data['ClaimOccurred'] = (data['TotalClaims'] > 0).astype(int)\n",
    "X_class = data.drop(columns=['TotalClaims', 'ClaimOccurred'])\n",
    "y_class = data['ClaimOccurred']\n",
    "\n",
    "# Train-test split\n",
    "X_train_class, X_test_class, y_train_class, y_test_class = train_test_split(\n",
    "    X_class, y_class, test_size=0.2, random_state=42\n",
    ")\n",
    "\n",
    "# Preprocess features (reuse ColumnTransformer)\n",
    "X_train_class_processed = preprocessor_claims.fit_transform(X_train_class)\n",
    "X_test_class_processed = preprocessor_claims.transform(X_test_class)\n",
    "\n",
    "# Train Random Forest Classifier\n",
    "clf = RandomForestClassifier(n_estimators=100, random_state=42)\n",
    "clf.fit(X_train_class_processed, y_train_class)\n",
    "\n",
    "# Evaluate\n",
    "y_pred_class = clf.predict(X_test_class_processed)\n",
    "print(f\"Accuracy: {accuracy_score(y_test_class, y_pred_class):.4f}\")\n",
    "print(f\"Precision: {precision_score(y_test_class, y_pred_class):.4f}\")\n",
    "print(f\"Recall: {recall_score(y_test_class, y_pred_class):.4f}\")\n",
    "print(f\"F1-Score: {f1_score(y_test_class, y_pred_class):.4f}\")\n"
   ]
  },
  {
   "cell_type": "markdown",
   "id": "b9e7fff8",
   "metadata": {},
   "source": [
    "# 📊 Cell 13: Baseline Model for Claim Severity\n",
    "This cell implements a simple baseline model to predict `TotalClaims` using the mean value. \n",
    "Baseline models help establish a reference performance to compare advanced ML models against.\n",
    "We compute RMSE and R² for the baseline to understand how much improvement our ML models achieve.\n"
   ]
  },
  {
   "cell_type": "code",
   "execution_count": null,
   "id": "0fe65cbd",
   "metadata": {},
   "outputs": [
    {
     "name": "stdout",
     "output_type": "stream",
     "text": [
      "📌 Baseline RMSE: 6790.18\n",
      "📌 Baseline R²: -0.0002\n"
     ]
    }
   ],
   "source": [
    "from sklearn.metrics import mean_squared_error, r2_score\n",
    "import numpy as np\n",
    "\n",
    "# Baseline prediction: mean of training claims\n",
    "baseline_pred = np.full_like(y_test_claims, y_train_claims.mean(), dtype=np.float64)\n",
    "\n",
    "# Evaluate baseline\n",
    "baseline_rmse = np.sqrt(mean_squared_error(y_test_claims, baseline_pred))\n",
    "baseline_r2 = r2_score(y_test_claims, baseline_pred)\n",
    "\n",
    "print(f\"📌 Baseline RMSE: {baseline_rmse:.2f}\")\n",
    "print(f\"📌 Baseline R²: {baseline_r2:.4f}\")\n"
   ]
  },
  {
   "cell_type": "markdown",
   "id": "103f586f",
   "metadata": {},
   "source": [
    "# 🔧 Cell 14: Hyperparameter Tuning for Random Forest and XGBoost\n",
    "Here we apply hyperparameter tuning to improve model performance. \n",
    "We use RandomizedSearchCV for computational efficiency and to identify the best parameters for Random Forest and XGBoost.\n"
   ]
  },
  {
   "cell_type": "code",
   "execution_count": null,
   "id": "6b3886a6",
   "metadata": {},
   "outputs": [
    {
     "name": "stdout",
     "output_type": "stream",
     "text": [
      "Fitting 3 folds for each of 5 candidates, totalling 15 fits\n",
      "✅ Best Random Forest params: {'n_estimators': 100, 'min_samples_split': 5, 'min_samples_leaf': 1, 'max_depth': 20}\n",
      "Fitting 3 folds for each of 5 candidates, totalling 15 fits\n"
     ]
    },
    {
     "name": "stderr",
     "output_type": "stream",
     "text": [
      "c:\\Users\\HP\\Desktop\\End-to-End-Insurance-Risk-Analytics\\venv\\lib\\site-packages\\joblib\\externals\\loky\\process_executor.py:782: UserWarning: A worker stopped while some jobs were given to the executor. This can be caused by a too short worker timeout or by a memory leak.\n",
      "  warnings.warn(\n"
     ]
    },
    {
     "name": "stdout",
     "output_type": "stream",
     "text": [
      "✅ Best XGBoost params: {'subsample': 1, 'n_estimators': 100, 'max_depth': 3, 'learning_rate': 0.1}\n"
     ]
    }
   ],
   "source": [
    "from sklearn.model_selection import RandomizedSearchCV\n",
    "from sklearn.ensemble import RandomForestRegressor\n",
    "import xgboost as xgb\n",
    "\n",
    "# Random Forest hyperparameter grid (smaller)\n",
    "rf_param_grid = {\n",
    "    'n_estimators': [100, 200],\n",
    "    'max_depth': [None, 10, 20],\n",
    "    'min_samples_split': [2, 5],\n",
    "    'min_samples_leaf': [1, 2]\n",
    "}\n",
    "\n",
    "rf_search = RandomizedSearchCV(\n",
    "    RandomForestRegressor(random_state=42, n_jobs=-1),\n",
    "    rf_param_grid,\n",
    "    n_iter=5,  # reduced from 10\n",
    "    cv=3,\n",
    "    scoring='neg_root_mean_squared_error',\n",
    "    verbose=1,\n",
    "    n_jobs=-1\n",
    ")\n",
    "rf_search.fit(X_train_claims_processed, y_train_claims)\n",
    "\n",
    "best_rf = rf_search.best_estimator_\n",
    "print(\"✅ Best Random Forest params:\", rf_search.best_params_)\n",
    "\n",
    "# XGBoost hyperparameter grid (smaller)\n",
    "xgb_param_grid = {\n",
    "    'n_estimators': [100, 200],\n",
    "    'max_depth': [3, 5],\n",
    "    'learning_rate': [0.05, 0.1],\n",
    "    'subsample': [0.8, 1]\n",
    "}\n",
    "\n",
    "xgb_search = RandomizedSearchCV(\n",
    "    xgb.XGBRegressor(random_state=42, objective='reg:squarederror', n_jobs=-1),\n",
    "    xgb_param_grid,\n",
    "    n_iter=5,  # reduced from 10\n",
    "    cv=3,\n",
    "    scoring='neg_root_mean_squared_error',\n",
    "    verbose=1,\n",
    "    n_jobs=-1\n",
    ")\n",
    "xgb_search.fit(X_train_claims_processed, y_train_claims)\n",
    "\n",
    "best_xgb = xgb_search.best_estimator_\n",
    "print(\"✅ Best XGBoost params:\", xgb_search.best_params_)\n"
   ]
  },
  {
   "cell_type": "markdown",
   "id": "62ebcc23",
   "metadata": {},
   "source": [
    "# 📊 Cell 15: Evaluate Tuned Models\n",
    "This cell evaluates the tuned Random Forest and XGBoost models on the test set.\n",
    "We calculate RMSE and R² and compare them against the baseline model to quantify improvement.\n"
   ]
  },
  {
   "cell_type": "code",
   "execution_count": null,
   "id": "145a4a80",
   "metadata": {},
   "outputs": [
    {
     "name": "stdout",
     "output_type": "stream",
     "text": [
      "📌 Random Forest RMSE: 6737.70, R²: 0.0152\n",
      "📌 XGBoost RMSE: 6731.17, R²: 0.0171\n"
     ]
    }
   ],
   "source": [
    "# Predictions\n",
    "rf_pred = best_rf.predict(X_test_claims_processed)\n",
    "xgb_pred = best_xgb.predict(X_test_claims_processed)\n",
    "\n",
    "# Metrics\n",
    "rf_rmse = np.sqrt(mean_squared_error(y_test_claims, rf_pred))\n",
    "rf_r2 = r2_score(y_test_claims, rf_pred)\n",
    "\n",
    "xgb_rmse = np.sqrt(mean_squared_error(y_test_claims, xgb_pred))\n",
    "xgb_r2 = r2_score(y_test_claims, xgb_pred)\n",
    "\n",
    "print(f\"📌 Random Forest RMSE: {rf_rmse:.2f}, R²: {rf_r2:.4f}\")\n",
    "print(f\"📌 XGBoost RMSE: {xgb_rmse:.2f}, R²: {xgb_r2:.4f}\")\n"
   ]
  },
  {
   "cell_type": "markdown",
   "id": "bb3c69a9",
   "metadata": {},
   "source": [
    "# 🔍 Cell 16: SHAP Feature Importance Analysis\n",
    "This cell computes SHAP values for the best-performing model to understand feature contributions.\n",
    "We generate a summary plot of the top 10 features, which helps explain how features impact the predicted `TotalClaims`.\n",
    "SHAP ensures interpretability for business decisions, like adjusting premiums based on vehicle age or risk score.\n"
   ]
  },
  {
   "cell_type": "code",
   "execution_count": null,
   "id": "92829ea8",
   "metadata": {},
   "outputs": [
    {
     "data": {
      "image/png": "[encoded data removed]",
      "text/plain": [
       "<Figure size 800x550 with 2 Axes>"
      ]
     },
     "metadata": {},
     "output_type": "display_data"
    }
   ],
   "source": [
    "import shap\n",
    "\n",
    "# Choose best model\n",
    "best_model_claims = best_xgb if xgb_rmse < rf_rmse else best_rf\n",
    "\n",
    "# Fallback: generic column names if preprocessor is not available\n",
    "X_train_dense = pd.DataFrame(\n",
    "    X_train_claims_processed.toarray(),\n",
    "    columns=[f\"feature_{i}\" for i in range(X_train_claims_processed.shape[1])]\n",
    ")\n",
    "X_test_dense = pd.DataFrame(\n",
    "    X_test_claims_processed.toarray(),\n",
    "    columns=[f\"feature_{i}\" for i in range(X_test_claims_processed.shape[1])]\n",
    ")\n",
    "\n",
    "# SHAP explainer\n",
    "explainer = shap.Explainer(best_model_claims, X_train_dense)\n",
    "shap_values = explainer(X_test_dense)\n",
    "\n",
    "# Summary plot for top 10 features\n",
    "shap.summary_plot(\n",
    "    shap_values,\n",
    "    features=X_test_dense,\n",
    "    feature_names=X_test_dense.columns,\n",
    "    max_display=10\n",
    ")\n"
   ]
  },
  {
   "cell_type": "markdown",
   "id": "5ebb9c49",
   "metadata": {},
   "source": [
    "# 💾 Cell 17: Save Model Artifacts and Results\n",
    "This cell saves the best model, preprocessor, and evaluation results for deployment.\n",
    "It ensures reproducibility and makes the model ready to integrate into the pricing system.\n"
   ]
  },
  {
   "cell_type": "code",
   "execution_count": null,
   "id": "03f96bd4",
   "metadata": {},
   "outputs": [
    {
     "name": "stdout",
     "output_type": "stream",
     "text": [
      "✅ Model and results saved successfully.\n"
     ]
    }
   ],
   "source": [
    "import joblib\n",
    "import json\n",
    "from datetime import datetime\n",
    "import os\n",
    "\n",
    "os.makedirs('../models', exist_ok=True)\n",
    "os.makedirs('../results', exist_ok=True)\n",
    "\n",
    "# Save model and preprocessor\n",
    "joblib.dump(best_model_claims, '../models/best_model_claims.joblib')\n",
    "joblib.dump(preprocessor_claims, '../models/preprocessor_claims.joblib')\n",
    "\n",
    "# Save results\n",
    "results = {\n",
    "    'model': best_model_claims.__class__.__name__,\n",
    "    'rmse': rf_rmse if best_model_claims == best_rf else xgb_rmse,\n",
    "    'r2': rf_r2 if best_model_claims == best_rf else xgb_r2,\n",
    "    'date': datetime.now().isoformat()\n",
    "}\n",
    "\n",
    "with open('../results/claims_model_results.json', 'w') as f:\n",
    "    json.dump(results, f, indent=2)\n",
    "\n",
    "print(\"✅ Model and results saved successfully.\")\n"
   ]
  },
  {
   "cell_type": "markdown",
   "id": "6dbcea4c",
   "metadata": {},
   "source": [
    "# 📊 Cell 18: Premium Optimization - Naive Approach\n",
    "This cell predicts premiums using a simple regression model to predict `CalculatedPremiumPerTerm`.\n",
    "This serves as a baseline before building the advanced risk-based premium framework.\n",
    "We use Linear Regression, Random Forest, and XGBoost for comparison.\n"
   ]
  },
  {
   "cell_type": "code",
   "execution_count": null,
   "id": "020292ff",
   "metadata": {},
   "outputs": [
    {
     "name": "stdout",
     "output_type": "stream",
     "text": [
      "📌 Linear Regression Premium RMSE: 5047.48, R²: 0.0181\n"
     ]
    }
   ],
   "source": [
    "# Features and target for premium prediction\n",
    "X_premium = data.drop(columns=['TotalPremium', 'TotalClaims'])\n",
    "y_premium = data['TotalPremium']\n",
    "\n",
    "# Train-test split\n",
    "from sklearn.model_selection import train_test_split\n",
    "X_train_prem, X_test_prem, y_train_prem, y_test_prem = train_test_split(\n",
    "    X_premium, y_premium, test_size=0.3, random_state=42\n",
    ")\n",
    "\n",
    "# Preprocessing: numeric + categorical\n",
    "from sklearn.compose import ColumnTransformer\n",
    "from sklearn.preprocessing import OneHotEncoder, StandardScaler\n",
    "\n",
    "numeric_features = X_train_prem.select_dtypes(include=['int64', 'float64']).columns.tolist()\n",
    "categorical_features = X_train_prem.select_dtypes(include=['object', 'category']).columns.tolist()\n",
    "\n",
    "preprocessor_prem = ColumnTransformer(transformers=[\n",
    "    ('num', StandardScaler(), numeric_features),\n",
    "    ('cat', OneHotEncoder(handle_unknown='ignore'), categorical_features)\n",
    "])\n",
    "\n",
    "X_train_prem_processed = preprocessor_prem.fit_transform(X_train_prem)\n",
    "X_test_prem_processed = preprocessor_prem.transform(X_test_prem)\n",
    "\n",
    "# Linear Regression model\n",
    "from sklearn.linear_model import LinearRegression\n",
    "from sklearn.metrics import mean_squared_error, r2_score\n",
    "import numpy as np\n",
    "\n",
    "lr_prem = LinearRegression()\n",
    "lr_prem.fit(X_train_prem_processed, y_train_prem)\n",
    "lr_pred = lr_prem.predict(X_test_prem_processed)\n",
    "\n",
    "# Evaluate model\n",
    "lr_rmse = np.sqrt(mean_squared_error(y_test_prem, lr_pred))\n",
    "lr_r2 = r2_score(y_test_prem, lr_pred)\n",
    "\n",
    "print(f\"📌 Linear Regression Premium RMSE: {lr_rmse:.2f}, R²: {lr_r2:.4f}\")\n"
   ]
  },
  {
   "cell_type": "markdown",
   "id": "36e6013f",
   "metadata": {},
   "source": [
    "# 🔧 Cell 19: Premium Optimization - Advanced Risk-Based Framework\n",
    "We implement a risk-based premium formula:\n",
    "Premium = (Predicted Probability of Claim) * (Predicted Claim Severity) + Expense Loading + Profit Margin\n",
    "This requires:\n",
    "1. A classification model to predict the probability of a claim.\n",
    "2. The claim severity model built earlier.\n"
   ]
  },
  {
   "cell_type": "code",
   "execution_count": null,
   "id": "be4c0886",
   "metadata": {},
   "outputs": [
    {
     "name": "stderr",
     "output_type": "stream",
     "text": [
      "c:\\Users\\HP\\Desktop\\End-to-End-Insurance-Risk-Analytics\\venv\\lib\\site-packages\\xgboost\\core.py:158: UserWarning: [20:18:35] WARNING: C:\\buildkite-agent\\builds\\buildkite-windows-cpu-autoscaling-group-i-08cbc0333d8d4aae1-1\\xgboost\\xgboost-ci-windows\\src\\learner.cc:740: \n",
      "Parameters: { \"use_label_encoder\" } are not used.\n",
      "\n",
      "  warnings.warn(smsg, UserWarning)\n"
     ]
    },
    {
     "name": "stdout",
     "output_type": "stream",
     "text": [
      "📌 Claim Probability Model - Accuracy: 0.8253, Precision: 0.8360, Recall: 0.9845, F1: 0.9042, ROC AUC: 0.5012\n"
     ]
    }
   ],
   "source": [
    "# Create binary target for claim occurrence\n",
    "data['ClaimOccurred'] = (data['TotalClaims'] > 0).astype(int)\n",
    "X_claim_prob = data.drop(columns=['ClaimOccurred', 'TotalClaims'])\n",
    "y_claim_prob = data['ClaimOccurred']\n",
    "\n",
    "# Split train-test\n",
    "from sklearn.model_selection import train_test_split\n",
    "X_train_prob, X_test_prob, y_train_prob, y_test_prob = train_test_split(\n",
    "    X_claim_prob, y_claim_prob, test_size=0.3, random_state=42\n",
    ")\n",
    "\n",
    "# Preprocessing for claim probability\n",
    "from sklearn.compose import ColumnTransformer\n",
    "from sklearn.preprocessing import StandardScaler, OneHotEncoder\n",
    "\n",
    "numeric_features = X_train_prob.select_dtypes(include=['int64', 'float64']).columns.tolist()\n",
    "categorical_features = X_train_prob.select_dtypes(include=['object', 'category']).columns.tolist()\n",
    "\n",
    "preprocessor_prob = ColumnTransformer(transformers=[\n",
    "    ('num', StandardScaler(), numeric_features),\n",
    "    ('cat', OneHotEncoder(handle_unknown='ignore'), categorical_features)\n",
    "])\n",
    "\n",
    "# Fit-transform on training data\n",
    "X_train_prob_processed = preprocessor_prob.fit_transform(X_train_prob)\n",
    "X_test_prob_processed = preprocessor_prob.transform(X_test_prob)\n",
    "\n",
    "# XGBoost Classifier for claim probability\n",
    "from xgboost import XGBClassifier\n",
    "xgb_prob_model = XGBClassifier(use_label_encoder=False, eval_metric='logloss', random_state=42)\n",
    "xgb_prob_model.fit(X_train_prob_processed, y_train_prob)\n",
    "\n",
    "# Predictions\n",
    "claim_prob_pred = xgb_prob_model.predict_proba(X_test_prob_processed)[:, 1]\n",
    "\n",
    "# Evaluate classification\n",
    "from sklearn.metrics import accuracy_score, precision_score, recall_score, f1_score, roc_auc_score\n",
    "\n",
    "y_pred_label = (claim_prob_pred > 0.5).astype(int)\n",
    "acc = accuracy_score(y_test_prob, y_pred_label)\n",
    "prec = precision_score(y_test_prob, y_pred_label)\n",
    "rec = recall_score(y_test_prob, y_pred_label)\n",
    "f1 = f1_score(y_test_prob, y_pred_label)\n",
    "roc_auc = roc_auc_score(y_test_prob, claim_prob_pred)\n",
    "\n",
    "print(f\"📌 Claim Probability Model - Accuracy: {acc:.4f}, Precision: {prec:.4f}, \"\n",
    "    f\"Recall: {rec:.4f}, F1: {f1:.4f}, ROC AUC: {roc_auc:.4f}\")\n"
   ]
  },
  {
   "cell_type": "markdown",
   "id": "6c9c2565",
   "metadata": {},
   "source": [
    "# 💰 Cell 20: Calculate Risk-Based Premium\n",
    "Using the predicted claim probability and predicted claim severity, we calculate the risk-based premium.\n",
    "We also add an expense loading and profit margin (as constants here, can be tuned later).\n",
    "This final premium can now be used in pricing policies dynamically.\n"
   ]
  },
  {
   "cell_type": "code",
   "execution_count": 1,
   "id": "75398ae5",
   "metadata": {},
   "outputs": [
    {
     "name": "stdout",
     "output_type": "stream",
     "text": [
      "📊 Sample Risk-Based Premium Predictions:\n",
      "[115436.07  118061.63  115436.07  115436.07  118292.26  114581.96\n",
      " 114581.96  118115.625 118020.73  114795.234]\n"
     ]
    }
   ],
   "source": [
    "import numpy as np\n",
    "import pandas as pd\n",
    "import joblib\n",
    "\n",
    "# 🔹 Load dataset\n",
    "data_path = \"../data/MachineLearningRating_v3.csv\"\n",
    "data = pd.read_csv(data_path)\n",
    "\n",
    "# 🔹 Prepare input features (drop target columns)\n",
    "X_claim_prob = data.drop(columns=['TotalClaims', 'CalculatedPremiumPerTerm'], errors='ignore')\n",
    "\n",
    "# 🔹 Load preprocessor & models\n",
    "preprocessor = joblib.load(\"../models/preprocessor_claims.joblib\")\n",
    "claim_prob_model = joblib.load(\"../models/best_model_xgboost.joblib\")  # probability model\n",
    "claim_severity_model = joblib.load(\"../models/best_model_claims.joblib\")  # severity model\n",
    "\n",
    "# 🔹 Preprocess features\n",
    "X_processed = preprocessor.transform(X_claim_prob)\n",
    "\n",
    "# Convert to dense if sparse\n",
    "if hasattr(X_processed, \"toarray\"):\n",
    "    X_processed = X_processed.toarray()\n",
    "\n",
    "# 🔹 Efficient feature alignment\n",
    "def align_features(X, expected_features):\n",
    "    n_samples, n_features = X.shape\n",
    "    if n_features < expected_features:\n",
    "        X_aligned = np.zeros((n_samples, expected_features))\n",
    "        X_aligned[:, :n_features] = X\n",
    "        return X_aligned\n",
    "    elif n_features > expected_features:\n",
    "        return X[:, :expected_features]\n",
    "    else:\n",
    "        return X\n",
    "\n",
    "X_prob_aligned = align_features(X_processed, claim_prob_model.n_features_in_)\n",
    "X_sev_aligned = align_features(X_processed, claim_severity_model.n_features_in_)\n",
    "\n",
    "# 🔹 Predict claim probability and clip to [0,1]\n",
    "claim_prob_pred = np.clip(claim_prob_model.predict(X_prob_aligned), 0, 1)\n",
    "\n",
    "# 🔹 Predict claim severity\n",
    "claim_severity_pred = claim_severity_model.predict(X_sev_aligned)\n",
    "\n",
    "# 🔹 Risk-based premium formula\n",
    "expense_loading = 500\n",
    "profit_margin = 0.1\n",
    "risk_based_premium = (claim_prob_pred * claim_severity_pred + expense_loading) * (1 + profit_margin)\n",
    "\n",
    "# 🔹 Display results\n",
    "print(\"📊 Sample Risk-Based Premium Predictions:\")\n",
    "print(risk_based_premium[:10])\n"
   ]
  },
  {
   "cell_type": "markdown",
   "id": "c5512a3c",
   "metadata": {},
   "source": [
    "# 🔍 Cell 21: Evaluate Risk-Based Premium\n",
    "We compare risk-based premium predictions against `CalculatedPremiumPerTerm` as a reference.\n",
    "Metrics include RMSE and R² to assess predictive accuracy and business reliability.\n"
   ]
  },
  {
   "cell_type": "code",
   "execution_count": 7,
   "id": "25ca2c80",
   "metadata": {},
   "outputs": [
    {
     "name": "stdout",
     "output_type": "stream",
     "text": [
      "📌 Risk-Based Premium RMSE: 100728.78, R²: -396.5375\n"
     ]
    }
   ],
   "source": [
    "import numpy as np\n",
    "from sklearn.metrics import mean_squared_error, r2_score\n",
    "\n",
    "# 🔹 Use 'TotalPremium' as the actual target\n",
    "y_test_prem = data['TotalPremium']\n",
    "\n",
    "# 🔹 Compute RMSE and R²\n",
    "rmse_risk_premium = np.sqrt(mean_squared_error(y_test_prem, risk_based_premium))\n",
    "r2_risk_premium = r2_score(y_test_prem, risk_based_premium)\n",
    "\n",
    "print(f\"📌 Risk-Based Premium RMSE: {rmse_risk_premium:.2f}, R²: {r2_risk_premium:.4f}\")\n"
   ]
  },
  {
   "cell_type": "markdown",
   "id": "d7d98532",
   "metadata": {},
   "source": [
    "# 💾 Cell 22: Save Risk-Based Premium Model Artifacts\n",
    "We save the claim probability model and the preprocessor for deployment in the pricing system.\n",
    "This allows dynamic, automated premium calculation for new policy applications.\n"
   ]
  },
  {
   "cell_type": "code",
   "execution_count": 9,
   "id": "3f007c7f",
   "metadata": {},
   "outputs": [
    {
     "name": "stdout",
     "output_type": "stream",
     "text": [
      "✅ Risk-based premium model and preprocessor saved successfully.\n"
     ]
    }
   ],
   "source": [
    "import joblib\n",
    "\n",
    "# Save models and preprocessors using the correct variable names\n",
    "joblib.dump(claim_prob_model, '../models/claim_probability_model.joblib')\n",
    "joblib.dump(preprocessor, '../models/preprocessor_premium.joblib')\n",
    "\n",
    "print(\"✅ Risk-based premium model and preprocessor saved successfully.\")\n"
   ]
  }
 ],
 "metadata": {
  "kernelspec": {
   "display_name": "venv",
   "language": "python",
   "name": "python3"
  },
  "language_info": {
   "codemirror_mode": {
    "name": "ipython",
    "version": 3
   },
   "file_extension": ".py",
   "mimetype": "text/x-python",
   "name": "python",
   "nbconvert_exporter": "python",
   "pygments_lexer": "ipython3",
   "version": "3.9.13"
  }
 },
 "nbformat": 4,
 "nbformat_minor": 5
}
